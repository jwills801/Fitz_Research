{
 "cells": [
  {
   "cell_type": "code",
   "execution_count": 2,
   "metadata": {},
   "outputs": [
    {
     "name": "stderr",
     "output_type": "stream",
     "text": [
      "┌ Info: Precompiling SymPy [24249f21-da20-56a4-8eb1-6a02cf4ae2e6]\n",
      "└ @ Base loading.jl:1273\n"
     ]
    },
    {
     "data": {
      "text/plain": [
       "(g, m2, l2, L1, J0hat, J2hat, b1, b2, k1, k2, k3, k4, s, x, y)"
      ]
     },
     "execution_count": 2,
     "metadata": {},
     "output_type": "execute_result"
    }
   ],
   "source": [
    "using SymPy\n",
    "using LinearAlgebra\n",
    "@vars g m2 l2 L1 J0hat J2hat b1 b2 k1 k2 k3 k4 s x y"
   ]
  },
  {
   "cell_type": "code",
   "execution_count": 2,
   "metadata": {},
   "outputs": [
    {
     "data": {
      "text/latex": [
       "\\[\\left[ \\begin{array}{rrrr}0&0&1&0\\\\0&0&0&1\\\\0&\\frac{L_{1} g l_{2}^{2} m_{2}^{2}}{\\hat{J0} \\hat{J2} - L_{1}^{2} l_{2}^{2} m_{2}^{2}}&- \\frac{\\hat{J2} b_{1}}{\\hat{J0} \\hat{J2} - L_{1}^{2} l_{2}^{2} m_{2}^{2}}&- \\frac{L_{1} b_{2} l_{2} m_{2}}{\\hat{J0} \\hat{J2} - L_{1}^{2} l_{2}^{2} m_{2}^{2}}\\\\0&\\frac{\\hat{J0} g l_{2} m_{2}}{\\hat{J0} \\hat{J2} - L_{1}^{2} l_{2}^{2} m_{2}^{2}}&- \\frac{L_{1} b_{1} l_{2} m_{2}}{\\hat{J0} \\hat{J2} - L_{1}^{2} l_{2}^{2} m_{2}^{2}}&- \\frac{\\hat{J0} b_{2}}{\\hat{J0} \\hat{J2} - L_{1}^{2} l_{2}^{2} m_{2}^{2}}\\end{array}\\right]\\]"
      ],
      "text/plain": [
       "4×4 Array{Sym,2}:\n",
       " 0  …                                            0\n",
       " 0                                               1\n",
       " 0     -L1*b2*l2*m2/(J0hat*J2hat - L1^2*l2^2*m2^2)\n",
       " 0        -J0hat*b2/(J0hat*J2hat - L1^2*l2^2*m2^2)"
      ]
     },
     "execution_count": 2,
     "metadata": {},
     "output_type": "execute_result"
    }
   ],
   "source": [
    "A31 = 0\n",
    "A32 = g*m2^2*l2^2*L1/(J0hat*J2hat-m2^2*L1^2*l2^2)\n",
    "A33 = -b1*J2hat/(J0hat*J2hat-m2^2*L1^2*l2^2)\n",
    "A34 = -b2*m2*l2*L1/(J0hat*J2hat-m2^2*L1^2*l2^2)\n",
    "A41 = 0\n",
    "A42 = g*m2*l2*J0hat/(J0hat*J2hat-m2^2*L1^2*l2^2)\n",
    "A43 = -b1*m2*l2*L1/(J0hat*J2hat-m2^2*L1^2*l2^2)\n",
    "A44 = -b2*J0hat/(J0hat*J2hat-m2^2*L1^2*l2^2)\n",
    "\n",
    "B31 = J2hat/(J0hat*J2hat-m2^2*L1^2*l2^2)\n",
    "B32 = m2*L1*l2/(J0hat*J2hat-m2^2*L1^2*l2^2)\n",
    "B41 = m2*L1*l2/(J0hat*J2hat-m2^2*L1^2*l2^2)\n",
    "B42 = J0hat/(J0hat*J2hat-m2^2*L1^2*l2^2)\n",
    "\n",
    "K = [k1 k2 k3 k4]\n",
    "A = [0 0 1 0; 0 0 0 1; A31 A32 A33 A34; A41 A42 A43 A44]"
   ]
  },
  {
   "cell_type": "code",
   "execution_count": 3,
   "metadata": {},
   "outputs": [
    {
     "data": {
      "text/latex": [
       "\\[ \\left[ \\begin{array}{r}0\\\\0\\\\\\frac{\\hat{J2}}{\\hat{J0} \\hat{J2} - L_{1}^{2} l_{2}^{2} m_{2}^{2}}\\\\\\frac{L_{1} l_{2} m_{2}}{\\hat{J0} \\hat{J2} - L_{1}^{2} l_{2}^{2} m_{2}^{2}}\\end{array} \\right] \\]"
      ],
      "text/plain": [
       "4-element Array{Sym,1}:\n",
       "                                       0\n",
       "                                       0\n",
       "    J2hat/(J0hat*J2hat - L1^2*l2^2*m2^2)\n",
       " L1*l2*m2/(J0hat*J2hat - L1^2*l2^2*m2^2)"
      ]
     },
     "execution_count": 3,
     "metadata": {},
     "output_type": "execute_result"
    }
   ],
   "source": [
    "# assuming that tau2 = 0\n",
    "B = [0; 0; B31; B41]"
   ]
  },
  {
   "cell_type": "code",
   "execution_count": 4,
   "metadata": {},
   "outputs": [
    {
     "data": {
      "text/latex": [
       "\\begin{equation*}\\frac{1.0 \\left(- 1.0 \\hat{J0} \\hat{J2} s^{4} - 1.0 \\hat{J0} b_{2} s^{3} + 1.0 \\hat{J0} g l_{2} m_{2} s^{2} - 1.0 \\hat{J2} b_{1} s^{3} - 1.0 \\hat{J2} k_{1} s^{2} - 1.0 \\hat{J2} k_{3} s^{3} + 1.0 L_{1}^{2} l_{2}^{2} m_{2}^{2} s^{4} - 1.0 L_{1} k_{2} l_{2} m_{2} s^{2} - 1.0 L_{1} k_{4} l_{2} m_{2} s^{3} - 1.0 b_{1} b_{2} s^{2} + 1.0 b_{1} g l_{2} m_{2} s - 1.0 b_{2} k_{1} s - 1.0 b_{2} k_{3} s^{2} + 1.0 g k_{1} l_{2} m_{2} + 1.0 g k_{3} l_{2} m_{2} s\\right)}{- 1.0 \\hat{J0} \\hat{J2} + 1.0 L_{1}^{2} l_{2}^{2} m_{2}^{2}}\\end{equation*}"
      ],
      "text/plain": [
       "    ⎛               4               3                    2               3    \n",
       "1.0⋅⎝- 1.0⋅J0̂⋅J2̂⋅s  - 1.0⋅J0̂⋅b₂⋅s  + 1.0⋅J0̂⋅g⋅l₂⋅m₂⋅s  - 1.0⋅J2̂⋅b₁⋅s  - 1\n",
       "──────────────────────────────────────────────────────────────────────────────\n",
       "                                                                              \n",
       "                                                                              \n",
       "\n",
       "           2               3         2   2   2  4                    2        \n",
       ".0⋅J2̂⋅k₁⋅s  - 1.0⋅J2̂⋅k₃⋅s  + 1.0⋅L₁ ⋅l₂ ⋅m₂ ⋅s  - 1.0⋅L₁⋅k₂⋅l₂⋅m₂⋅s  - 1.0⋅L\n",
       "──────────────────────────────────────────────────────────────────────────────\n",
       "                                                               2   2   2      \n",
       "                                          -1.0⋅J0̂⋅J2̂ + 1.0⋅L₁ ⋅l₂ ⋅m₂       \n",
       "\n",
       "            3              2                                               2  \n",
       "₁⋅k₄⋅l₂⋅m₂⋅s  - 1.0⋅b₁⋅b₂⋅s  + 1.0⋅b₁⋅g⋅l₂⋅m₂⋅s - 1.0⋅b₂⋅k₁⋅s - 1.0⋅b₂⋅k₃⋅s  +\n",
       "──────────────────────────────────────────────────────────────────────────────\n",
       "                                                                              \n",
       "                                                                              \n",
       "\n",
       "                                  ⎞\n",
       " 1.0⋅g⋅k₁⋅l₂⋅m₂ + 1.0⋅g⋅k₃⋅l₂⋅m₂⋅s⎠\n",
       "───────────────────────────────────\n",
       "                                   \n",
       "                                   "
      ]
     },
     "execution_count": 4,
     "metadata": {},
     "output_type": "execute_result"
    }
   ],
   "source": [
    "eye = Matrix{Float64}(I, 4, 4)\n",
    "q = det(s*eye - (A - B*K))"
   ]
  },
  {
   "cell_type": "code",
   "execution_count": 5,
   "metadata": {},
   "outputs": [
    {
     "data": {
      "text/latex": [
       "\\begin{equation*}\\frac{1.0 g k_{1} l_{2} m_{2}}{- 1.0 \\hat{J0} \\hat{J2} + 1.0 L_{1}^{2} l_{2}^{2} m_{2}^{2}} + s^{4} \\left(- \\frac{1.0 \\hat{J0} \\hat{J2}}{- 1.0 \\hat{J0} \\hat{J2} + 1.0 L_{1}^{2} l_{2}^{2} m_{2}^{2}} + \\frac{1.0 L_{1}^{2} l_{2}^{2} m_{2}^{2}}{- 1.0 \\hat{J0} \\hat{J2} + 1.0 L_{1}^{2} l_{2}^{2} m_{2}^{2}}\\right) + s^{3} \\left(- \\frac{1.0 \\hat{J0} b_{2}}{- 1.0 \\hat{J0} \\hat{J2} + 1.0 L_{1}^{2} l_{2}^{2} m_{2}^{2}} - \\frac{1.0 \\hat{J2} b_{1}}{- 1.0 \\hat{J0} \\hat{J2} + 1.0 L_{1}^{2} l_{2}^{2} m_{2}^{2}} - \\frac{1.0 \\hat{J2} k_{3}}{- 1.0 \\hat{J0} \\hat{J2} + 1.0 L_{1}^{2} l_{2}^{2} m_{2}^{2}} - \\frac{1.0 L_{1} k_{4} l_{2} m_{2}}{- 1.0 \\hat{J0} \\hat{J2} + 1.0 L_{1}^{2} l_{2}^{2} m_{2}^{2}}\\right) + s^{2} \\left(\\frac{1.0 \\hat{J0} g l_{2} m_{2}}{- 1.0 \\hat{J0} \\hat{J2} + 1.0 L_{1}^{2} l_{2}^{2} m_{2}^{2}} - \\frac{1.0 \\hat{J2} k_{1}}{- 1.0 \\hat{J0} \\hat{J2} + 1.0 L_{1}^{2} l_{2}^{2} m_{2}^{2}} - \\frac{1.0 L_{1} k_{2} l_{2} m_{2}}{- 1.0 \\hat{J0} \\hat{J2} + 1.0 L_{1}^{2} l_{2}^{2} m_{2}^{2}} - \\frac{1.0 b_{1} b_{2}}{- 1.0 \\hat{J0} \\hat{J2} + 1.0 L_{1}^{2} l_{2}^{2} m_{2}^{2}} - \\frac{1.0 b_{2} k_{3}}{- 1.0 \\hat{J0} \\hat{J2} + 1.0 L_{1}^{2} l_{2}^{2} m_{2}^{2}}\\right) + s \\left(\\frac{1.0 b_{1} g l_{2} m_{2}}{- 1.0 \\hat{J0} \\hat{J2} + 1.0 L_{1}^{2} l_{2}^{2} m_{2}^{2}} - \\frac{1.0 b_{2} k_{1}}{- 1.0 \\hat{J0} \\hat{J2} + 1.0 L_{1}^{2} l_{2}^{2} m_{2}^{2}} + \\frac{1.0 g k_{3} l_{2} m_{2}}{- 1.0 \\hat{J0} \\hat{J2} + 1.0 L_{1}^{2} l_{2}^{2} m_{2}^{2}}\\right)\\end{equation*}"
      ],
      "text/plain": [
       "                                    ⎛                                         \n",
       "        1.0⋅g⋅k₁⋅l₂⋅m₂            4 ⎜           1.0⋅J0̂⋅J2̂                   \n",
       "────────────────────────────── + s ⋅⎜- ────────────────────────────── + ──────\n",
       "                     2   2   2      ⎜                       2   2   2         \n",
       "-1.0⋅J0̂⋅J2̂ + 1.0⋅L₁ ⋅l₂ ⋅m₂       ⎝  -1.0⋅J0̂⋅J2̂ + 1.0⋅L₁ ⋅l₂ ⋅m₂    -1.0⋅J\n",
       "\n",
       "       2   2   2        ⎞                                                     \n",
       " 1.0⋅L₁ ⋅l₂ ⋅m₂         ⎟    3 ⎛            1.0⋅J0̂⋅b₂                       1\n",
       "────────────────────────⎟ + s ⋅⎜- ────────────────────────────── - ───────────\n",
       "               2   2   2⎟      ⎜                       2   2   2              \n",
       "0̂⋅J2̂ + 1.0⋅L₁ ⋅l₂ ⋅m₂ ⎠      ⎝  -1.0⋅J0̂⋅J2̂ + 1.0⋅L₁ ⋅l₂ ⋅m₂    -1.0⋅J0̂⋅J2\n",
       "\n",
       "                                                                              \n",
       ".0⋅J2̂⋅b₁                       1.0⋅J2̂⋅k₃                    1.0⋅L₁⋅k₄⋅l₂⋅m₂ \n",
       "─────────────────── - ────────────────────────────── - ───────────────────────\n",
       "          2   2   2                        2   2   2                        2 \n",
       "̂ + 1.0⋅L₁ ⋅l₂ ⋅m₂    -1.0⋅J0̂⋅J2̂ + 1.0⋅L₁ ⋅l₂ ⋅m₂    -1.0⋅J0̂⋅J2̂ + 1.0⋅L₁ ⋅\n",
       "\n",
       "                                                                              \n",
       "       ⎞    2 ⎛       1.0⋅J0̂⋅g⋅l₂⋅m₂                     1.0⋅J2̂⋅k₁          \n",
       "───────⎟ + s ⋅⎜────────────────────────────── - ──────────────────────────────\n",
       "  2   2⎟      ⎜                     2   2   2                        2   2   2\n",
       "l₂ ⋅m₂ ⎠      ⎝-1.0⋅J0̂⋅J2̂ + 1.0⋅L₁ ⋅l₂ ⋅m₂    -1.0⋅J0̂⋅J2̂ + 1.0⋅L₁ ⋅l₂ ⋅m₂ \n",
       "\n",
       "                                                                              \n",
       "          1.0⋅L₁⋅k₂⋅l₂⋅m₂                     1.0⋅b₁⋅b₂                       \n",
       " - ────────────────────────────── - ────────────────────────────── - ─────────\n",
       "                        2   2   2                        2   2   2            \n",
       "   -1.0⋅J0̂⋅J2̂ + 1.0⋅L₁ ⋅l₂ ⋅m₂    -1.0⋅J0̂⋅J2̂ + 1.0⋅L₁ ⋅l₂ ⋅m₂    -1.0⋅J0̂⋅\n",
       "\n",
       "                                                                              \n",
       " 1.0⋅b₂⋅k₃           ⎞     ⎛        1.0⋅b₁⋅g⋅l₂⋅m₂                     1.0⋅b₂⋅\n",
       "─────────────────────⎟ + s⋅⎜────────────────────────────── - ─────────────────\n",
       "            2   2   2⎟     ⎜                     2   2   2                    \n",
       "J2̂ + 1.0⋅L₁ ⋅l₂ ⋅m₂ ⎠     ⎝-1.0⋅J0̂⋅J2̂ + 1.0⋅L₁ ⋅l₂ ⋅m₂    -1.0⋅J0̂⋅J2̂ + 1.\n",
       "\n",
       "                                               \n",
       "k₁                      1.0⋅g⋅k₃⋅l₂⋅m₂        ⎞\n",
       "───────────── + ──────────────────────────────⎟\n",
       "    2   2   2                        2   2   2⎟\n",
       "0⋅L₁ ⋅l₂ ⋅m₂    -1.0⋅J0̂⋅J2̂ + 1.0⋅L₁ ⋅l₂ ⋅m₂ ⎠"
      ]
     },
     "execution_count": 5,
     "metadata": {},
     "output_type": "execute_result"
    }
   ],
   "source": [
    "collect(expand(q),s^4)"
   ]
  },
  {
   "cell_type": "code",
   "execution_count": 5,
   "metadata": {},
   "outputs": [
    {
     "data": {
      "text/latex": [
       "\\begin{equation*}s^{2} + 26.6666666666667 s + 373.288789123937\\end{equation*}"
      ],
      "text/plain": [
       " 2                                        \n",
       "s  + 26.6666666666667⋅s + 373.288789123937"
      ]
     },
     "execution_count": 5,
     "metadata": {},
     "output_type": "execute_result"
    }
   ],
   "source": [
    "OS = 5/100\n",
    "Ts = 0.3\n",
    "zeta = sqrt((log(OS)^2)/(pi^2+(log(OS))^2))\n",
    "omega = 4/Ts/zeta\n",
    "\n",
    "# Put the other two poles are on the same OS shoot line as the first two dominant poles\n",
    "# Therefor OS and zeta are the same\n",
    "\n",
    "Ts2 = 5*Ts\n",
    "omega2 = 4/Ts2/zeta\n",
    "\n",
    "d = expand((s^2 + 2*zeta*omega*s + omega^2)*(s^2 + 2*zeta*omega2*s + omega2^2))"
   ]
  },
  {
   "cell_type": "code",
   "execution_count": 7,
   "metadata": {},
   "outputs": [
    {
     "data": {
      "text/latex": [
       "\\[ \\left[ \\begin{array}{r}8105.05127604002\\\\0\\\\420.220340688894\\\\0\\\\1\\end{array} \\right] \\]"
      ],
      "text/plain": [
       "5-element Array{Sym,1}:\n",
       " 8105.05127604002\n",
       "                0\n",
       " 420.220340688894\n",
       "                0\n",
       "                1"
      ]
     },
     "execution_count": 7,
     "metadata": {},
     "output_type": "execute_result"
    }
   ],
   "source": [
    "dd = [ diff(d,s,i)/factorial(i) |> subs(s=>0) for i in 0:4]"
   ]
  },
  {
   "cell_type": "code",
   "execution_count": 8,
   "metadata": {},
   "outputs": [
    {
     "data": {
      "text/latex": [
       "\\[\\left[ \\begin{array}{rrrr}8105.05127604002&- \\frac{420.220340688894 \\hat{J0} L_{1} b_{2} g l_{2}^{2} m_{2}^{2}}{\\left(\\hat{J0} \\hat{J2} - L_{1}^{2} l_{2}^{2} m_{2}^{2}\\right)^{2}} - \\frac{420.220340688894 \\hat{J2} L_{1} b_{1} g l_{2}^{2} m_{2}^{2}}{\\left(\\hat{J0} \\hat{J2} - L_{1}^{2} l_{2}^{2} m_{2}^{2}\\right)^{2}}&\\frac{420.220340688894 \\hat{J2}^{2} b_{1}^{2}}{\\left(\\hat{J0} \\hat{J2} - L_{1}^{2} l_{2}^{2} m_{2}^{2}\\right)^{2}} + \\frac{420.220340688894 L_{1}^{2} b_{1} b_{2} l_{2}^{2} m_{2}^{2}}{\\left(\\hat{J0} \\hat{J2} - L_{1}^{2} l_{2}^{2} m_{2}^{2}\\right)^{2}}&\\frac{420.220340688894 \\hat{J0} L_{1} b_{2}^{2} l_{2} m_{2}}{\\left(\\hat{J0} \\hat{J2} - L_{1}^{2} l_{2}^{2} m_{2}^{2}\\right)^{2}} + \\frac{420.220340688894 \\hat{J2} L_{1} b_{1} b_{2} l_{2} m_{2}}{\\left(\\hat{J0} \\hat{J2} - L_{1}^{2} l_{2}^{2} m_{2}^{2}\\right)^{2}} + \\frac{420.220340688894 L_{1} g l_{2}^{2} m_{2}^{2}}{\\hat{J0} \\hat{J2} - L_{1}^{2} l_{2}^{2} m_{2}^{2}}\\\\0&- \\frac{420.220340688894 \\hat{J0}^{2} b_{2} g l_{2} m_{2}}{\\left(\\hat{J0} \\hat{J2} - L_{1}^{2} l_{2}^{2} m_{2}^{2}\\right)^{2}} - \\frac{420.220340688894 L_{1}^{2} b_{1} g l_{2}^{3} m_{2}^{3}}{\\left(\\hat{J0} \\hat{J2} - L_{1}^{2} l_{2}^{2} m_{2}^{2}\\right)^{2}} + 8105.05127604002&\\frac{420.220340688894 \\hat{J0} L_{1} b_{1} b_{2} l_{2} m_{2}}{\\left(\\hat{J0} \\hat{J2} - L_{1}^{2} l_{2}^{2} m_{2}^{2}\\right)^{2}} + \\frac{420.220340688894 \\hat{J2} L_{1} b_{1}^{2} l_{2} m_{2}}{\\left(\\hat{J0} \\hat{J2} - L_{1}^{2} l_{2}^{2} m_{2}^{2}\\right)^{2}}&\\frac{420.220340688894 \\hat{J0}^{2} b_{2}^{2}}{\\left(\\hat{J0} \\hat{J2} - L_{1}^{2} l_{2}^{2} m_{2}^{2}\\right)^{2}} + \\frac{420.220340688894 \\hat{J0} g l_{2} m_{2}}{\\hat{J0} \\hat{J2} - L_{1}^{2} l_{2}^{2} m_{2}^{2}} + \\frac{420.220340688894 L_{1}^{2} b_{1} b_{2} l_{2}^{2} m_{2}^{2}}{\\left(\\hat{J0} \\hat{J2} - L_{1}^{2} l_{2}^{2} m_{2}^{2}\\right)^{2}}\\\\0&\\frac{420.220340688894 \\hat{J0} L_{1} g^{2} l_{2}^{3} m_{2}^{3}}{\\left(\\hat{J0} \\hat{J2} - L_{1}^{2} l_{2}^{2} m_{2}^{2}\\right)^{2}} - \\frac{420.220340688894 \\hat{J2} b_{1} \\left(- \\frac{\\hat{J0} L_{1} b_{2} g l_{2}^{2} m_{2}^{2}}{\\left(\\hat{J0} \\hat{J2} - L_{1}^{2} l_{2}^{2} m_{2}^{2}\\right)^{2}} - \\frac{\\hat{J2} L_{1} b_{1} g l_{2}^{2} m_{2}^{2}}{\\left(\\hat{J0} \\hat{J2} - L_{1}^{2} l_{2}^{2} m_{2}^{2}\\right)^{2}}\\right)}{\\hat{J0} \\hat{J2} - L_{1}^{2} l_{2}^{2} m_{2}^{2}} - \\frac{420.220340688894 L_{1} b_{2} l_{2} m_{2} \\left(- \\frac{\\hat{J0}^{2} b_{2} g l_{2} m_{2}}{\\left(\\hat{J0} \\hat{J2} - L_{1}^{2} l_{2}^{2} m_{2}^{2}\\right)^{2}} - \\frac{L_{1}^{2} b_{1} g l_{2}^{3} m_{2}^{3}}{\\left(\\hat{J0} \\hat{J2} - L_{1}^{2} l_{2}^{2} m_{2}^{2}\\right)^{2}}\\right)}{\\hat{J0} \\hat{J2} - L_{1}^{2} l_{2}^{2} m_{2}^{2}}&- \\frac{420.220340688894 \\hat{J2} b_{1} \\left(\\frac{\\hat{J2}^{2} b_{1}^{2}}{\\left(\\hat{J0} \\hat{J2} - L_{1}^{2} l_{2}^{2} m_{2}^{2}\\right)^{2}} + \\frac{L_{1}^{2} b_{1} b_{2} l_{2}^{2} m_{2}^{2}}{\\left(\\hat{J0} \\hat{J2} - L_{1}^{2} l_{2}^{2} m_{2}^{2}\\right)^{2}}\\right)}{\\hat{J0} \\hat{J2} - L_{1}^{2} l_{2}^{2} m_{2}^{2}} - \\frac{420.220340688894 L_{1}^{2} b_{1} g l_{2}^{3} m_{2}^{3}}{\\left(\\hat{J0} \\hat{J2} - L_{1}^{2} l_{2}^{2} m_{2}^{2}\\right)^{2}} - \\frac{420.220340688894 L_{1} b_{2} l_{2} m_{2} \\left(\\frac{\\hat{J0} L_{1} b_{1} b_{2} l_{2} m_{2}}{\\left(\\hat{J0} \\hat{J2} - L_{1}^{2} l_{2}^{2} m_{2}^{2}\\right)^{2}} + \\frac{\\hat{J2} L_{1} b_{1}^{2} l_{2} m_{2}}{\\left(\\hat{J0} \\hat{J2} - L_{1}^{2} l_{2}^{2} m_{2}^{2}\\right)^{2}}\\right)}{\\hat{J0} \\hat{J2} - L_{1}^{2} l_{2}^{2} m_{2}^{2}} + 8105.05127604002&- \\frac{420.220340688894 \\hat{J0} L_{1} b_{2} g l_{2}^{2} m_{2}^{2}}{\\left(\\hat{J0} \\hat{J2} - L_{1}^{2} l_{2}^{2} m_{2}^{2}\\right)^{2}} - \\frac{420.220340688894 \\hat{J2} b_{1} \\left(\\frac{\\hat{J0} L_{1} b_{2}^{2} l_{2} m_{2}}{\\left(\\hat{J0} \\hat{J2} - L_{1}^{2} l_{2}^{2} m_{2}^{2}\\right)^{2}} + \\frac{\\hat{J2} L_{1} b_{1} b_{2} l_{2} m_{2}}{\\left(\\hat{J0} \\hat{J2} - L_{1}^{2} l_{2}^{2} m_{2}^{2}\\right)^{2}} + \\frac{L_{1} g l_{2}^{2} m_{2}^{2}}{\\hat{J0} \\hat{J2} - L_{1}^{2} l_{2}^{2} m_{2}^{2}}\\right)}{\\hat{J0} \\hat{J2} - L_{1}^{2} l_{2}^{2} m_{2}^{2}} - \\frac{420.220340688894 L_{1} b_{2} l_{2} m_{2} \\left(\\frac{\\hat{J0}^{2} b_{2}^{2}}{\\left(\\hat{J0} \\hat{J2} - L_{1}^{2} l_{2}^{2} m_{2}^{2}\\right)^{2}} + \\frac{\\hat{J0} g l_{2} m_{2}}{\\hat{J0} \\hat{J2} - L_{1}^{2} l_{2}^{2} m_{2}^{2}} + \\frac{L_{1}^{2} b_{1} b_{2} l_{2}^{2} m_{2}^{2}}{\\left(\\hat{J0} \\hat{J2} - L_{1}^{2} l_{2}^{2} m_{2}^{2}\\right)^{2}}\\right)}{\\hat{J0} \\hat{J2} - L_{1}^{2} l_{2}^{2} m_{2}^{2}}\\\\0&\\frac{420.220340688894 \\hat{J0}^{2} g^{2} l_{2}^{2} m_{2}^{2}}{\\left(\\hat{J0} \\hat{J2} - L_{1}^{2} l_{2}^{2} m_{2}^{2}\\right)^{2}} - \\frac{420.220340688894 \\hat{J0} b_{2} \\left(- \\frac{\\hat{J0}^{2} b_{2} g l_{2} m_{2}}{\\left(\\hat{J0} \\hat{J2} - L_{1}^{2} l_{2}^{2} m_{2}^{2}\\right)^{2}} - \\frac{L_{1}^{2} b_{1} g l_{2}^{3} m_{2}^{3}}{\\left(\\hat{J0} \\hat{J2} - L_{1}^{2} l_{2}^{2} m_{2}^{2}\\right)^{2}}\\right)}{\\hat{J0} \\hat{J2} - L_{1}^{2} l_{2}^{2} m_{2}^{2}} - \\frac{420.220340688894 L_{1} b_{1} l_{2} m_{2} \\left(- \\frac{\\hat{J0} L_{1} b_{2} g l_{2}^{2} m_{2}^{2}}{\\left(\\hat{J0} \\hat{J2} - L_{1}^{2} l_{2}^{2} m_{2}^{2}\\right)^{2}} - \\frac{\\hat{J2} L_{1} b_{1} g l_{2}^{2} m_{2}^{2}}{\\left(\\hat{J0} \\hat{J2} - L_{1}^{2} l_{2}^{2} m_{2}^{2}\\right)^{2}}\\right)}{\\hat{J0} \\hat{J2} - L_{1}^{2} l_{2}^{2} m_{2}^{2}}&- \\frac{420.220340688894 \\hat{J0} L_{1} b_{1} g l_{2}^{2} m_{2}^{2}}{\\left(\\hat{J0} \\hat{J2} - L_{1}^{2} l_{2}^{2} m_{2}^{2}\\right)^{2}} - \\frac{420.220340688894 \\hat{J0} b_{2} \\left(\\frac{\\hat{J0} L_{1} b_{1} b_{2} l_{2} m_{2}}{\\left(\\hat{J0} \\hat{J2} - L_{1}^{2} l_{2}^{2} m_{2}^{2}\\right)^{2}} + \\frac{\\hat{J2} L_{1} b_{1}^{2} l_{2} m_{2}}{\\left(\\hat{J0} \\hat{J2} - L_{1}^{2} l_{2}^{2} m_{2}^{2}\\right)^{2}}\\right)}{\\hat{J0} \\hat{J2} - L_{1}^{2} l_{2}^{2} m_{2}^{2}} - \\frac{420.220340688894 L_{1} b_{1} l_{2} m_{2} \\left(\\frac{\\hat{J2}^{2} b_{1}^{2}}{\\left(\\hat{J0} \\hat{J2} - L_{1}^{2} l_{2}^{2} m_{2}^{2}\\right)^{2}} + \\frac{L_{1}^{2} b_{1} b_{2} l_{2}^{2} m_{2}^{2}}{\\left(\\hat{J0} \\hat{J2} - L_{1}^{2} l_{2}^{2} m_{2}^{2}\\right)^{2}}\\right)}{\\hat{J0} \\hat{J2} - L_{1}^{2} l_{2}^{2} m_{2}^{2}}&- \\frac{420.220340688894 \\hat{J0}^{2} b_{2} g l_{2} m_{2}}{\\left(\\hat{J0} \\hat{J2} - L_{1}^{2} l_{2}^{2} m_{2}^{2}\\right)^{2}} - \\frac{420.220340688894 \\hat{J0} b_{2} \\left(\\frac{\\hat{J0}^{2} b_{2}^{2}}{\\left(\\hat{J0} \\hat{J2} - L_{1}^{2} l_{2}^{2} m_{2}^{2}\\right)^{2}} + \\frac{\\hat{J0} g l_{2} m_{2}}{\\hat{J0} \\hat{J2} - L_{1}^{2} l_{2}^{2} m_{2}^{2}} + \\frac{L_{1}^{2} b_{1} b_{2} l_{2}^{2} m_{2}^{2}}{\\left(\\hat{J0} \\hat{J2} - L_{1}^{2} l_{2}^{2} m_{2}^{2}\\right)^{2}}\\right)}{\\hat{J0} \\hat{J2} - L_{1}^{2} l_{2}^{2} m_{2}^{2}} - \\frac{420.220340688894 L_{1} b_{1} l_{2} m_{2} \\left(\\frac{\\hat{J0} L_{1} b_{2}^{2} l_{2} m_{2}}{\\left(\\hat{J0} \\hat{J2} - L_{1}^{2} l_{2}^{2} m_{2}^{2}\\right)^{2}} + \\frac{\\hat{J2} L_{1} b_{1} b_{2} l_{2} m_{2}}{\\left(\\hat{J0} \\hat{J2} - L_{1}^{2} l_{2}^{2} m_{2}^{2}\\right)^{2}} + \\frac{L_{1} g l_{2}^{2} m_{2}^{2}}{\\hat{J0} \\hat{J2} - L_{1}^{2} l_{2}^{2} m_{2}^{2}}\\right)}{\\hat{J0} \\hat{J2} - L_{1}^{2} l_{2}^{2} m_{2}^{2}} + 8105.05127604002\\end{array}\\right]\\]"
      ],
      "text/plain": [
       "4×4 Array{Sym,2}:\n",
       " 8105.05127604002  …                                                                                                                                                                                                                                                                                                                          420.220340688894*J0hat*L1*b2^2*l2*m2/(J0hat*J2hat - L1^2*l2^2*m2^2)^2 + 420.220340688894*J2hat*L1*b1*b2*l2*m2/(J0hat*J2hat - L1^2*l2^2*m2^2)^2 + 420.220340688894*L1*g*l2^2*m2^2/(J0hat*J2hat - L1^2*l2^2*m2^2)\n",
       "                0                                                                                                                                                                                                                                                                                                                                     420.220340688894*J0hat^2*b2^2/(J0hat*J2hat - L1^2*l2^2*m2^2)^2 + 420.220340688894*J0hat*g*l2*m2/(J0hat*J2hat - L1^2*l2^2*m2^2) + 420.220340688894*L1^2*b1*b2*l2^2*m2^2/(J0hat*J2hat - L1^2*l2^2*m2^2)^2\n",
       "                0                   -420.220340688894*J0hat*L1*b2*g*l2^2*m2^2/(J0hat*J2hat - L1^2*l2^2*m2^2)^2 - 420.220340688894*J2hat*b1*(J0hat*L1*b2^2*l2*m2/(J0hat*J2hat - L1^2*l2^2*m2^2)^2 + J2hat*L1*b1*b2*l2*m2/(J0hat*J2hat - L1^2*l2^2*m2^2)^2 + L1*g*l2^2*m2^2/(J0hat*J2hat - L1^2*l2^2*m2^2))/(J0hat*J2hat - L1^2*l2^2*m2^2) - 420.220340688894*L1*b2*l2*m2*(J0hat^2*b2^2/(J0hat*J2hat - L1^2*l2^2*m2^2)^2 + J0hat*g*l2*m2/(J0hat*J2hat - L1^2*l2^2*m2^2) + L1^2*b1*b2*l2^2*m2^2/(J0hat*J2hat - L1^2*l2^2*m2^2)^2)/(J0hat*J2hat - L1^2*l2^2*m2^2)\n",
       "                0     -420.220340688894*J0hat^2*b2*g*l2*m2/(J0hat*J2hat - L1^2*l2^2*m2^2)^2 - 420.220340688894*J0hat*b2*(J0hat^2*b2^2/(J0hat*J2hat - L1^2*l2^2*m2^2)^2 + J0hat*g*l2*m2/(J0hat*J2hat - L1^2*l2^2*m2^2) + L1^2*b1*b2*l2^2*m2^2/(J0hat*J2hat - L1^2*l2^2*m2^2)^2)/(J0hat*J2hat - L1^2*l2^2*m2^2) - 420.220340688894*L1*b1*l2*m2*(J0hat*L1*b2^2*l2*m2/(J0hat*J2hat - L1^2*l2^2*m2^2)^2 + J2hat*L1*b1*b2*l2*m2/(J0hat*J2hat - L1^2*l2^2*m2^2)^2 + L1*g*l2^2*m2^2/(J0hat*J2hat - L1^2*l2^2*m2^2))/(J0hat*J2hat - L1^2*l2^2*m2^2) + 8105.05127604002"
      ]
     },
     "execution_count": 8,
     "metadata": {},
     "output_type": "execute_result"
    }
   ],
   "source": [
    "Lambda = dd[1]*eye + dd[2]*A^2 + dd[3]*A^3 + dd[4]*A^4"
   ]
  },
  {
   "cell_type": "code",
   "execution_count": null,
   "metadata": {},
   "outputs": [],
   "source": []
  },
  {
   "cell_type": "code",
   "execution_count": null,
   "metadata": {},
   "outputs": [],
   "source": []
  },
  {
   "cell_type": "markdown",
   "metadata": {},
   "source": [
    "This is trying to get the contollability matrix to use ackerman's formula, although we will still need to figure out how to get the coefficients off of the desired polymonial d\n",
    "\n",
    "Wait.... Can I use Ackermans.... My noted say that this is for a SISO system, but I think I have more than one input...."
   ]
  },
  {
   "cell_type": "code",
   "execution_count": 9,
   "metadata": {},
   "outputs": [
    {
     "data": {
      "text/latex": [
       "\\[\\left[ \\begin{array}{rrrr}0&\\frac{\\hat{J2}}{\\hat{J0} \\hat{J2} - L_{1}^{2} l_{2}^{2} m_{2}^{2}}&- \\frac{\\hat{J2}^{2} b_{1}}{\\left(\\hat{J0} \\hat{J2} - L_{1}^{2} l_{2}^{2} m_{2}^{2}\\right)^{2}} - \\frac{L_{1}^{2} b_{2} l_{2}^{2} m_{2}^{2}}{\\left(\\hat{J0} \\hat{J2} - L_{1}^{2} l_{2}^{2} m_{2}^{2}\\right)^{2}}&\\frac{\\hat{J2} \\left(\\frac{\\hat{J2}^{2} b_{1}^{2}}{\\left(\\hat{J0} \\hat{J2} - L_{1}^{2} l_{2}^{2} m_{2}^{2}\\right)^{2}} + \\frac{L_{1}^{2} b_{1} b_{2} l_{2}^{2} m_{2}^{2}}{\\left(\\hat{J0} \\hat{J2} - L_{1}^{2} l_{2}^{2} m_{2}^{2}\\right)^{2}}\\right)}{\\hat{J0} \\hat{J2} - L_{1}^{2} l_{2}^{2} m_{2}^{2}} + \\frac{L_{1} l_{2} m_{2} \\left(\\frac{\\hat{J0} L_{1} b_{2}^{2} l_{2} m_{2}}{\\left(\\hat{J0} \\hat{J2} - L_{1}^{2} l_{2}^{2} m_{2}^{2}\\right)^{2}} + \\frac{\\hat{J2} L_{1} b_{1} b_{2} l_{2} m_{2}}{\\left(\\hat{J0} \\hat{J2} - L_{1}^{2} l_{2}^{2} m_{2}^{2}\\right)^{2}} + \\frac{L_{1} g l_{2}^{2} m_{2}^{2}}{\\hat{J0} \\hat{J2} - L_{1}^{2} l_{2}^{2} m_{2}^{2}}\\right)}{\\hat{J0} \\hat{J2} - L_{1}^{2} l_{2}^{2} m_{2}^{2}}\\\\0&\\frac{L_{1} l_{2} m_{2}}{\\hat{J0} \\hat{J2} - L_{1}^{2} l_{2}^{2} m_{2}^{2}}&- \\frac{\\hat{J0} L_{1} b_{2} l_{2} m_{2}}{\\left(\\hat{J0} \\hat{J2} - L_{1}^{2} l_{2}^{2} m_{2}^{2}\\right)^{2}} - \\frac{\\hat{J2} L_{1} b_{1} l_{2} m_{2}}{\\left(\\hat{J0} \\hat{J2} - L_{1}^{2} l_{2}^{2} m_{2}^{2}\\right)^{2}}&\\frac{\\hat{J2} \\left(\\frac{\\hat{J0} L_{1} b_{1} b_{2} l_{2} m_{2}}{\\left(\\hat{J0} \\hat{J2} - L_{1}^{2} l_{2}^{2} m_{2}^{2}\\right)^{2}} + \\frac{\\hat{J2} L_{1} b_{1}^{2} l_{2} m_{2}}{\\left(\\hat{J0} \\hat{J2} - L_{1}^{2} l_{2}^{2} m_{2}^{2}\\right)^{2}}\\right)}{\\hat{J0} \\hat{J2} - L_{1}^{2} l_{2}^{2} m_{2}^{2}} + \\frac{L_{1} l_{2} m_{2} \\left(\\frac{\\hat{J0}^{2} b_{2}^{2}}{\\left(\\hat{J0} \\hat{J2} - L_{1}^{2} l_{2}^{2} m_{2}^{2}\\right)^{2}} + \\frac{\\hat{J0} g l_{2} m_{2}}{\\hat{J0} \\hat{J2} - L_{1}^{2} l_{2}^{2} m_{2}^{2}} + \\frac{L_{1}^{2} b_{1} b_{2} l_{2}^{2} m_{2}^{2}}{\\left(\\hat{J0} \\hat{J2} - L_{1}^{2} l_{2}^{2} m_{2}^{2}\\right)^{2}}\\right)}{\\hat{J0} \\hat{J2} - L_{1}^{2} l_{2}^{2} m_{2}^{2}}\\\\\\frac{\\hat{J2}}{\\hat{J0} \\hat{J2} - L_{1}^{2} l_{2}^{2} m_{2}^{2}}&- \\frac{\\hat{J2}^{2} b_{1}}{\\left(\\hat{J0} \\hat{J2} - L_{1}^{2} l_{2}^{2} m_{2}^{2}\\right)^{2}} - \\frac{L_{1}^{2} b_{2} l_{2}^{2} m_{2}^{2}}{\\left(\\hat{J0} \\hat{J2} - L_{1}^{2} l_{2}^{2} m_{2}^{2}\\right)^{2}}&\\frac{\\hat{J2} \\left(\\frac{\\hat{J2}^{2} b_{1}^{2}}{\\left(\\hat{J0} \\hat{J2} - L_{1}^{2} l_{2}^{2} m_{2}^{2}\\right)^{2}} + \\frac{L_{1}^{2} b_{1} b_{2} l_{2}^{2} m_{2}^{2}}{\\left(\\hat{J0} \\hat{J2} - L_{1}^{2} l_{2}^{2} m_{2}^{2}\\right)^{2}}\\right)}{\\hat{J0} \\hat{J2} - L_{1}^{2} l_{2}^{2} m_{2}^{2}} + \\frac{L_{1} l_{2} m_{2} \\left(\\frac{\\hat{J0} L_{1} b_{2}^{2} l_{2} m_{2}}{\\left(\\hat{J0} \\hat{J2} - L_{1}^{2} l_{2}^{2} m_{2}^{2}\\right)^{2}} + \\frac{\\hat{J2} L_{1} b_{1} b_{2} l_{2} m_{2}}{\\left(\\hat{J0} \\hat{J2} - L_{1}^{2} l_{2}^{2} m_{2}^{2}\\right)^{2}} + \\frac{L_{1} g l_{2}^{2} m_{2}^{2}}{\\hat{J0} \\hat{J2} - L_{1}^{2} l_{2}^{2} m_{2}^{2}}\\right)}{\\hat{J0} \\hat{J2} - L_{1}^{2} l_{2}^{2} m_{2}^{2}}&\\frac{\\hat{J2} \\left(- \\frac{\\hat{J2} b_{1} \\left(\\frac{\\hat{J2}^{2} b_{1}^{2}}{\\left(\\hat{J0} \\hat{J2} - L_{1}^{2} l_{2}^{2} m_{2}^{2}\\right)^{2}} + \\frac{L_{1}^{2} b_{1} b_{2} l_{2}^{2} m_{2}^{2}}{\\left(\\hat{J0} \\hat{J2} - L_{1}^{2} l_{2}^{2} m_{2}^{2}\\right)^{2}}\\right)}{\\hat{J0} \\hat{J2} - L_{1}^{2} l_{2}^{2} m_{2}^{2}} - \\frac{L_{1}^{2} b_{1} g l_{2}^{3} m_{2}^{3}}{\\left(\\hat{J0} \\hat{J2} - L_{1}^{2} l_{2}^{2} m_{2}^{2}\\right)^{2}} - \\frac{L_{1} b_{2} l_{2} m_{2} \\left(\\frac{\\hat{J0} L_{1} b_{1} b_{2} l_{2} m_{2}}{\\left(\\hat{J0} \\hat{J2} - L_{1}^{2} l_{2}^{2} m_{2}^{2}\\right)^{2}} + \\frac{\\hat{J2} L_{1} b_{1}^{2} l_{2} m_{2}}{\\left(\\hat{J0} \\hat{J2} - L_{1}^{2} l_{2}^{2} m_{2}^{2}\\right)^{2}}\\right)}{\\hat{J0} \\hat{J2} - L_{1}^{2} l_{2}^{2} m_{2}^{2}}\\right)}{\\hat{J0} \\hat{J2} - L_{1}^{2} l_{2}^{2} m_{2}^{2}} + \\frac{L_{1} l_{2} m_{2} \\left(- \\frac{\\hat{J0} L_{1} b_{2} g l_{2}^{2} m_{2}^{2}}{\\left(\\hat{J0} \\hat{J2} - L_{1}^{2} l_{2}^{2} m_{2}^{2}\\right)^{2}} - \\frac{\\hat{J2} b_{1} \\left(\\frac{\\hat{J0} L_{1} b_{2}^{2} l_{2} m_{2}}{\\left(\\hat{J0} \\hat{J2} - L_{1}^{2} l_{2}^{2} m_{2}^{2}\\right)^{2}} + \\frac{\\hat{J2} L_{1} b_{1} b_{2} l_{2} m_{2}}{\\left(\\hat{J0} \\hat{J2} - L_{1}^{2} l_{2}^{2} m_{2}^{2}\\right)^{2}} + \\frac{L_{1} g l_{2}^{2} m_{2}^{2}}{\\hat{J0} \\hat{J2} - L_{1}^{2} l_{2}^{2} m_{2}^{2}}\\right)}{\\hat{J0} \\hat{J2} - L_{1}^{2} l_{2}^{2} m_{2}^{2}} - \\frac{L_{1} b_{2} l_{2} m_{2} \\left(\\frac{\\hat{J0}^{2} b_{2}^{2}}{\\left(\\hat{J0} \\hat{J2} - L_{1}^{2} l_{2}^{2} m_{2}^{2}\\right)^{2}} + \\frac{\\hat{J0} g l_{2} m_{2}}{\\hat{J0} \\hat{J2} - L_{1}^{2} l_{2}^{2} m_{2}^{2}} + \\frac{L_{1}^{2} b_{1} b_{2} l_{2}^{2} m_{2}^{2}}{\\left(\\hat{J0} \\hat{J2} - L_{1}^{2} l_{2}^{2} m_{2}^{2}\\right)^{2}}\\right)}{\\hat{J0} \\hat{J2} - L_{1}^{2} l_{2}^{2} m_{2}^{2}}\\right)}{\\hat{J0} \\hat{J2} - L_{1}^{2} l_{2}^{2} m_{2}^{2}}\\\\\\frac{L_{1} l_{2} m_{2}}{\\hat{J0} \\hat{J2} - L_{1}^{2} l_{2}^{2} m_{2}^{2}}&- \\frac{\\hat{J0} L_{1} b_{2} l_{2} m_{2}}{\\left(\\hat{J0} \\hat{J2} - L_{1}^{2} l_{2}^{2} m_{2}^{2}\\right)^{2}} - \\frac{\\hat{J2} L_{1} b_{1} l_{2} m_{2}}{\\left(\\hat{J0} \\hat{J2} - L_{1}^{2} l_{2}^{2} m_{2}^{2}\\right)^{2}}&\\frac{\\hat{J2} \\left(\\frac{\\hat{J0} L_{1} b_{1} b_{2} l_{2} m_{2}}{\\left(\\hat{J0} \\hat{J2} - L_{1}^{2} l_{2}^{2} m_{2}^{2}\\right)^{2}} + \\frac{\\hat{J2} L_{1} b_{1}^{2} l_{2} m_{2}}{\\left(\\hat{J0} \\hat{J2} - L_{1}^{2} l_{2}^{2} m_{2}^{2}\\right)^{2}}\\right)}{\\hat{J0} \\hat{J2} - L_{1}^{2} l_{2}^{2} m_{2}^{2}} + \\frac{L_{1} l_{2} m_{2} \\left(\\frac{\\hat{J0}^{2} b_{2}^{2}}{\\left(\\hat{J0} \\hat{J2} - L_{1}^{2} l_{2}^{2} m_{2}^{2}\\right)^{2}} + \\frac{\\hat{J0} g l_{2} m_{2}}{\\hat{J0} \\hat{J2} - L_{1}^{2} l_{2}^{2} m_{2}^{2}} + \\frac{L_{1}^{2} b_{1} b_{2} l_{2}^{2} m_{2}^{2}}{\\left(\\hat{J0} \\hat{J2} - L_{1}^{2} l_{2}^{2} m_{2}^{2}\\right)^{2}}\\right)}{\\hat{J0} \\hat{J2} - L_{1}^{2} l_{2}^{2} m_{2}^{2}}&\\frac{\\hat{J2} \\left(- \\frac{\\hat{J0} L_{1} b_{1} g l_{2}^{2} m_{2}^{2}}{\\left(\\hat{J0} \\hat{J2} - L_{1}^{2} l_{2}^{2} m_{2}^{2}\\right)^{2}} - \\frac{\\hat{J0} b_{2} \\left(\\frac{\\hat{J0} L_{1} b_{1} b_{2} l_{2} m_{2}}{\\left(\\hat{J0} \\hat{J2} - L_{1}^{2} l_{2}^{2} m_{2}^{2}\\right)^{2}} + \\frac{\\hat{J2} L_{1} b_{1}^{2} l_{2} m_{2}}{\\left(\\hat{J0} \\hat{J2} - L_{1}^{2} l_{2}^{2} m_{2}^{2}\\right)^{2}}\\right)}{\\hat{J0} \\hat{J2} - L_{1}^{2} l_{2}^{2} m_{2}^{2}} - \\frac{L_{1} b_{1} l_{2} m_{2} \\left(\\frac{\\hat{J2}^{2} b_{1}^{2}}{\\left(\\hat{J0} \\hat{J2} - L_{1}^{2} l_{2}^{2} m_{2}^{2}\\right)^{2}} + \\frac{L_{1}^{2} b_{1} b_{2} l_{2}^{2} m_{2}^{2}}{\\left(\\hat{J0} \\hat{J2} - L_{1}^{2} l_{2}^{2} m_{2}^{2}\\right)^{2}}\\right)}{\\hat{J0} \\hat{J2} - L_{1}^{2} l_{2}^{2} m_{2}^{2}}\\right)}{\\hat{J0} \\hat{J2} - L_{1}^{2} l_{2}^{2} m_{2}^{2}} + \\frac{L_{1} l_{2} m_{2} \\left(- \\frac{\\hat{J0}^{2} b_{2} g l_{2} m_{2}}{\\left(\\hat{J0} \\hat{J2} - L_{1}^{2} l_{2}^{2} m_{2}^{2}\\right)^{2}} - \\frac{\\hat{J0} b_{2} \\left(\\frac{\\hat{J0}^{2} b_{2}^{2}}{\\left(\\hat{J0} \\hat{J2} - L_{1}^{2} l_{2}^{2} m_{2}^{2}\\right)^{2}} + \\frac{\\hat{J0} g l_{2} m_{2}}{\\hat{J0} \\hat{J2} - L_{1}^{2} l_{2}^{2} m_{2}^{2}} + \\frac{L_{1}^{2} b_{1} b_{2} l_{2}^{2} m_{2}^{2}}{\\left(\\hat{J0} \\hat{J2} - L_{1}^{2} l_{2}^{2} m_{2}^{2}\\right)^{2}}\\right)}{\\hat{J0} \\hat{J2} - L_{1}^{2} l_{2}^{2} m_{2}^{2}} - \\frac{L_{1} b_{1} l_{2} m_{2} \\left(\\frac{\\hat{J0} L_{1} b_{2}^{2} l_{2} m_{2}}{\\left(\\hat{J0} \\hat{J2} - L_{1}^{2} l_{2}^{2} m_{2}^{2}\\right)^{2}} + \\frac{\\hat{J2} L_{1} b_{1} b_{2} l_{2} m_{2}}{\\left(\\hat{J0} \\hat{J2} - L_{1}^{2} l_{2}^{2} m_{2}^{2}\\right)^{2}} + \\frac{L_{1} g l_{2}^{2} m_{2}^{2}}{\\hat{J0} \\hat{J2} - L_{1}^{2} l_{2}^{2} m_{2}^{2}}\\right)}{\\hat{J0} \\hat{J2} - L_{1}^{2} l_{2}^{2} m_{2}^{2}}\\right)}{\\hat{J0} \\hat{J2} - L_{1}^{2} l_{2}^{2} m_{2}^{2}}\\end{array}\\right]\\]"
      ],
      "text/plain": [
       "4×4 Array{Sym,2}:\n",
       "                                       0  …                                                                                                                                                                                                                                                                                                                                                                                                                                                                                                                                                                          J2hat*(J2hat^2*b1^2/(J0hat*J2hat - L1^2*l2^2*m2^2)^2 + L1^2*b1*b2*l2^2*m2^2/(J0hat*J2hat - L1^2*l2^2*m2^2)^2)/(J0hat*J2hat - L1^2*l2^2*m2^2) + L1*l2*m2*(J0hat*L1*b2^2*l2*m2/(J0hat*J2hat - L1^2*l2^2*m2^2)^2 + J2hat*L1*b1*b2*l2*m2/(J0hat*J2hat - L1^2*l2^2*m2^2)^2 + L1*g*l2^2*m2^2/(J0hat*J2hat - L1^2*l2^2*m2^2))/(J0hat*J2hat - L1^2*l2^2*m2^2)\n",
       "                                       0                                                                                                                                                                                                                                                                                                                                                                                                                                                                                                                                                                              J2hat*(J0hat*L1*b1*b2*l2*m2/(J0hat*J2hat - L1^2*l2^2*m2^2)^2 + J2hat*L1*b1^2*l2*m2/(J0hat*J2hat - L1^2*l2^2*m2^2)^2)/(J0hat*J2hat - L1^2*l2^2*m2^2) + L1*l2*m2*(J0hat^2*b2^2/(J0hat*J2hat - L1^2*l2^2*m2^2)^2 + J0hat*g*l2*m2/(J0hat*J2hat - L1^2*l2^2*m2^2) + L1^2*b1*b2*l2^2*m2^2/(J0hat*J2hat - L1^2*l2^2*m2^2)^2)/(J0hat*J2hat - L1^2*l2^2*m2^2)\n",
       "    J2hat/(J0hat*J2hat - L1^2*l2^2*m2^2)     J2hat*(-J2hat*b1*(J2hat^2*b1^2/(J0hat*J2hat - L1^2*l2^2*m2^2)^2 + L1^2*b1*b2*l2^2*m2^2/(J0hat*J2hat - L1^2*l2^2*m2^2)^2)/(J0hat*J2hat - L1^2*l2^2*m2^2) - L1^2*b1*g*l2^3*m2^3/(J0hat*J2hat - L1^2*l2^2*m2^2)^2 - L1*b2*l2*m2*(J0hat*L1*b1*b2*l2*m2/(J0hat*J2hat - L1^2*l2^2*m2^2)^2 + J2hat*L1*b1^2*l2*m2/(J0hat*J2hat - L1^2*l2^2*m2^2)^2)/(J0hat*J2hat - L1^2*l2^2*m2^2))/(J0hat*J2hat - L1^2*l2^2*m2^2) + L1*l2*m2*(-J0hat*L1*b2*g*l2^2*m2^2/(J0hat*J2hat - L1^2*l2^2*m2^2)^2 - J2hat*b1*(J0hat*L1*b2^2*l2*m2/(J0hat*J2hat - L1^2*l2^2*m2^2)^2 + J2hat*L1*b1*b2*l2*m2/(J0hat*J2hat - L1^2*l2^2*m2^2)^2 + L1*g*l2^2*m2^2/(J0hat*J2hat - L1^2*l2^2*m2^2))/(J0hat*J2hat - L1^2*l2^2*m2^2) - L1*b2*l2*m2*(J0hat^2*b2^2/(J0hat*J2hat - L1^2*l2^2*m2^2)^2 + J0hat*g*l2*m2/(J0hat*J2hat - L1^2*l2^2*m2^2) + L1^2*b1*b2*l2^2*m2^2/(J0hat*J2hat - L1^2*l2^2*m2^2)^2)/(J0hat*J2hat - L1^2*l2^2*m2^2))/(J0hat*J2hat - L1^2*l2^2*m2^2)\n",
       " L1*l2*m2/(J0hat*J2hat - L1^2*l2^2*m2^2)      J2hat*(-J0hat*L1*b1*g*l2^2*m2^2/(J0hat*J2hat - L1^2*l2^2*m2^2)^2 - J0hat*b2*(J0hat*L1*b1*b2*l2*m2/(J0hat*J2hat - L1^2*l2^2*m2^2)^2 + J2hat*L1*b1^2*l2*m2/(J0hat*J2hat - L1^2*l2^2*m2^2)^2)/(J0hat*J2hat - L1^2*l2^2*m2^2) - L1*b1*l2*m2*(J2hat^2*b1^2/(J0hat*J2hat - L1^2*l2^2*m2^2)^2 + L1^2*b1*b2*l2^2*m2^2/(J0hat*J2hat - L1^2*l2^2*m2^2)^2)/(J0hat*J2hat - L1^2*l2^2*m2^2))/(J0hat*J2hat - L1^2*l2^2*m2^2) + L1*l2*m2*(-J0hat^2*b2*g*l2*m2/(J0hat*J2hat - L1^2*l2^2*m2^2)^2 - J0hat*b2*(J0hat^2*b2^2/(J0hat*J2hat - L1^2*l2^2*m2^2)^2 + J0hat*g*l2*m2/(J0hat*J2hat - L1^2*l2^2*m2^2) + L1^2*b1*b2*l2^2*m2^2/(J0hat*J2hat - L1^2*l2^2*m2^2)^2)/(J0hat*J2hat - L1^2*l2^2*m2^2) - L1*b1*l2*m2*(J0hat*L1*b2^2*l2*m2/(J0hat*J2hat - L1^2*l2^2*m2^2)^2 + J2hat*L1*b1*b2*l2*m2/(J0hat*J2hat - L1^2*l2^2*m2^2)^2 + L1*g*l2^2*m2^2/(J0hat*J2hat - L1^2*l2^2*m2^2))/(J0hat*J2hat - L1^2*l2^2*m2^2))/(J0hat*J2hat - L1^2*l2^2*m2^2)"
      ]
     },
     "execution_count": 9,
     "metadata": {},
     "output_type": "execute_result"
    }
   ],
   "source": [
    "e_m = [B A*B A^2*B A^3*B]"
   ]
  },
  {
   "cell_type": "markdown",
   "metadata": {},
   "source": [
    "I need a better way to get Lambda...."
   ]
  },
  {
   "cell_type": "code",
   "execution_count": 10,
   "metadata": {},
   "outputs": [
    {
     "data": {
      "text/latex": [
       "\\[\\left[ \\begin{array}{rrrr}115.4172298146&-11.2484930348257&4.20616726729594&-117.586939179225\\end{array}\\right]\\]"
      ],
      "text/plain": [
       "1×4 Array{Sym,2}:\n",
       " 115.417229814600  -11.2484930348257  4.20616726729594  -117.586939179225"
      ]
     },
     "execution_count": 10,
     "metadata": {},
     "output_type": "execute_result"
    }
   ],
   "source": [
    "k = [0 0 0 1]*(e_m^-1)*Lambda\n",
    "J0hatval = 0.0125 # kg*m^2\n",
    "J2hatval = 0.02 # kg*m^2\n",
    "b1val = 0.1 # N*m\n",
    "b2val = 0.2 # N*m\n",
    "gval = 9.8 # m/s^2\n",
    "m2val = 0.8 # kg\n",
    "l2val = 0.7 # m\n",
    "L1val = 0.5 # m\n",
    "k = [df|> subs(J0hat => J0hatval , J2hat => J2hatval , b1 => b1val , b2 => b2val ,  g => gval , m2 => m2val , l2 =>l2val , L1 => L1val)|> simplify for df in k]\n",
    "\n"
   ]
  },
  {
   "cell_type": "code",
   "execution_count": 11,
   "metadata": {},
   "outputs": [
    {
     "data": {
      "text/plain": [
       "0.125"
      ]
     },
     "execution_count": 11,
     "metadata": {},
     "output_type": "execute_result"
    }
   ],
   "source": []
  },
  {
   "cell_type": "code",
   "execution_count": null,
   "metadata": {},
   "outputs": [],
   "source": []
  }
 ],
 "metadata": {
  "kernelspec": {
   "display_name": "Julia 1.3.0",
   "language": "julia",
   "name": "julia-1.3"
  },
  "language_info": {
   "file_extension": ".jl",
   "mimetype": "application/julia",
   "name": "julia",
   "version": "1.3.0"
  }
 },
 "nbformat": 4,
 "nbformat_minor": 2
}
