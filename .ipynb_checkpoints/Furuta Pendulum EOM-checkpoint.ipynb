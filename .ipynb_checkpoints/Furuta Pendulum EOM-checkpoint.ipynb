{
 "cells": [
  {
   "cell_type": "code",
   "execution_count": 2,
   "metadata": {},
   "outputs": [
    {
     "data": {
      "text/plain": [
       "(J1xx, J1yy, J1zz, J2xx, J2yy, J2zz, l1, L1, l2, m1, m2, g, b1, b2, t, thetadot1, thetadot2, thetaddot1, thetaddot2)"
      ]
     },
     "execution_count": 2,
     "metadata": {},
     "output_type": "execute_result"
    }
   ],
   "source": [
    "using SymPy\n",
    "using LinearAlgebra\n",
    "@vars J1xx J1yy J1zz J2xx J2yy J2zz l1 L1 l2 m1 m2 g b1 b2 t thetadot1 thetadot2 thetaddot1 thetaddot2"
   ]
  },
  {
   "cell_type": "code",
   "execution_count": 3,
   "metadata": {},
   "outputs": [],
   "source": [
    "theta1 = SymFunction(\"theta1\")(t)\n",
    "theta2 = SymFunction(\"theta2\")(t);"
   ]
  },
  {
   "cell_type": "code",
   "execution_count": 4,
   "metadata": {},
   "outputs": [],
   "source": [
    "J1 = [J1xx 0 0; 0 J1yy 0; 0 0 J1zz]\n",
    "J2 = [J2xx 0 0; 0 J2yy 0; 0 0 J2zz];"
   ]
  },
  {
   "cell_type": "code",
   "execution_count": 5,
   "metadata": {},
   "outputs": [],
   "source": [
    "R1 = [cos(theta1) sin(theta1) 0; -sin(theta1) cos(theta1) 0; 0 0 1]\n",
    "R2 = [0 sin(theta2) -cos(theta2); 0 cos(theta2) sin(theta2); 1 0 0];"
   ]
  },
  {
   "cell_type": "code",
   "execution_count": 6,
   "metadata": {},
   "outputs": [],
   "source": [
    "ω1 = [0;0;diff(theta1,t)]\n",
    "r1 = [l1;0;0]\n",
    "v1c = cross(ω1, r1)\n",
    "ω2 = R2*ω1 + [0;0;diff(theta2,t)]\n",
    "v2 = R2*(cross(ω1,[L1;0;0]))\n",
    "r2 = [l2;0;0]\n",
    "v2c = v2 + (cross(ω2, r2));"
   ]
  },
  {
   "cell_type": "code",
   "execution_count": 7,
   "metadata": {},
   "outputs": [
    {
     "data": {
      "text/latex": [
       "\\[\\left[ \\begin{array}{r}0\\\\l_{1} \\dot{\\theta}_{1}\\\\0\\end{array}\\right]\\]"
      ],
      "text/plain": [
       "3×1 Array{Sym,2}:\n",
       "            0\n",
       " l1*thetadot1\n",
       "            0"
      ]
     },
     "execution_count": 7,
     "metadata": {},
     "output_type": "execute_result"
    }
   ],
   "source": [
    "v1c.subs(diff(theta1,t),thetadot1)"
   ]
  },
  {
   "cell_type": "code",
   "execution_count": 8,
   "metadata": {},
   "outputs": [
    {
     "data": {
      "text/latex": [
       "\\[\\left[ \\begin{array}{r}L_{1} \\dot{\\theta}_{1} \\sin{\\left(\\theta_{2}{\\left(t \\right)} \\right)}\\\\L_{1} \\dot{\\theta}_{1} \\cos{\\left(\\theta_{2}{\\left(t \\right)} \\right)} + l_{2} \\dot{\\theta}_{2}\\\\- l_{2} \\dot{\\theta}_{1} \\sin{\\left(\\theta_{2}{\\left(t \\right)} \\right)}\\end{array}\\right]\\]"
      ],
      "text/plain": [
       "3×1 Array{Sym,2}:\n",
       "                L1*thetadot1*sin(theta2(t))\n",
       " L1*thetadot1*cos(theta2(t)) + l2*thetadot2\n",
       "               -l2*thetadot1*sin(theta2(t))"
      ]
     },
     "execution_count": 8,
     "metadata": {},
     "output_type": "execute_result"
    }
   ],
   "source": [
    "v2c.subs([(diff(theta1,t),thetadot1),(diff(theta2,t),thetadot2)])"
   ]
  },
  {
   "cell_type": "code",
   "execution_count": 9,
   "metadata": {},
   "outputs": [
    {
     "data": {
      "text/latex": [
       "\\begin{equation*}- 2.0 J2xx \\dot{\\theta}_{1} \\dot{\\theta}_{2} \\sin{\\left(\\theta_{2}{\\left(t \\right)} \\right)} \\cos{\\left(\\theta_{2}{\\left(t \\right)} \\right)} + 2.0 J2yy \\dot{\\theta}_{1} \\dot{\\theta}_{2} \\sin{\\left(\\theta_{2}{\\left(t \\right)} \\right)} \\cos{\\left(\\theta_{2}{\\left(t \\right)} \\right)} + 1.0 L_{1} l_{2} m_{2} \\ddot{\\theta}_{2} \\cos{\\left(\\theta_{2}{\\left(t \\right)} \\right)} - 1.0 L_{1} l_{2} m_{2} \\dot{\\theta}_{2}^{2} \\sin{\\left(\\theta_{2}{\\left(t \\right)} \\right)} + b_{1} \\dot{\\theta}_{1} + 2.0 l_{2}^{2} m_{2} \\dot{\\theta}_{1} \\dot{\\theta}_{2} \\sin{\\left(\\theta_{2}{\\left(t \\right)} \\right)} \\cos{\\left(\\theta_{2}{\\left(t \\right)} \\right)} + \\ddot{\\theta}_{1} \\left(1.0 J1zz + 1.0 J2xx \\cos^{2}{\\left(\\theta_{2}{\\left(t \\right)} \\right)} + 1.0 J2yy \\sin^{2}{\\left(\\theta_{2}{\\left(t \\right)} \\right)} + 1.0 L_{1}^{2} m_{2} \\sin^{2}{\\left(\\theta_{2}{\\left(t \\right)} \\right)} + 1.0 L_{1}^{2} m_{2} \\cos^{2}{\\left(\\theta_{2}{\\left(t \\right)} \\right)} + 1.0 l_{1}^{2} m_{1} + 1.0 l_{2}^{2} m_{2} \\sin^{2}{\\left(\\theta_{2}{\\left(t \\right)} \\right)}\\right)\\end{equation*}"
      ],
      "text/plain": [
       "                                                                              \n",
       "-2.0⋅J2xx⋅θ̇₁⋅θ̇₂⋅sin(θ₂(t))⋅cos(θ₂(t)) + 2.0⋅J2yy⋅θ̇₁⋅θ̇₂⋅sin(θ₂(t))⋅cos(θ₂(t\n",
       "\n",
       "                                                   2                          \n",
       ")) + 1.0⋅L₁⋅l₂⋅m₂⋅θ̈₂⋅cos(θ₂(t)) - 1.0⋅L₁⋅l₂⋅m₂⋅θ̇₂ ⋅sin(θ₂(t)) + b₁⋅θ̇₁ + 2.0\n",
       "\n",
       "   2                                        ⎛                       2         \n",
       "⋅l₂ ⋅m₂⋅θ̇₁⋅θ̇₂⋅sin(θ₂(t))⋅cos(θ₂(t)) + θ̈₁⋅⎝1.0⋅J1zz + 1.0⋅J2xx⋅cos (θ₂(t)) +\n",
       "\n",
       "             2                2       2                2       2              \n",
       " 1.0⋅J2yy⋅sin (θ₂(t)) + 1.0⋅L₁ ⋅m₂⋅sin (θ₂(t)) + 1.0⋅L₁ ⋅m₂⋅cos (θ₂(t)) + 1.0⋅\n",
       "\n",
       "  2            2       2       ⎞\n",
       "l₁ ⋅m₁ + 1.0⋅l₂ ⋅m₂⋅sin (θ₂(t))⎠"
      ]
     },
     "execution_count": 9,
     "metadata": {},
     "output_type": "execute_result"
    }
   ],
   "source": [
    "Ep1 = [0]\n",
    "Ek1 = .5*((v1c.T)*m1*v1c + (ω1.T)*J1*ω1)\n",
    "Ep2 = [g*m2*l2*(1-cos(theta2))]\n",
    "Ek2 = .5*((v2c.T)*m2*v2c) + .5*((ω2.T)*J2*ω2)\n",
    "L = Ek1 + Ek2 - Ep1 - Ep2\n",
    "roughτ1 = diff((diff(L[1],diff(theta1,t))),t) + b1*(diff(theta1,t)) - diff(L[1],theta1)\n",
    "cleanτ1 = roughτ1.subs([(diff(diff(theta1,t),t),thetaddot1),(diff(diff(theta2,t),t),thetaddot2),(diff(theta1,t),thetadot1),(diff(theta2,t),thetadot2)])\n",
    "τ1 = collect(expand(cleanτ1),thetaddot1)"
   ]
  },
  {
   "cell_type": "code",
   "execution_count": 10,
   "metadata": {},
   "outputs": [
    {
     "data": {
      "text/latex": [
       "\\begin{equation*}1.0 J2zz \\ddot{\\theta}_{2} + 1.0 L_{1} l_{2} m_{2} \\ddot{\\theta}_{1} \\cos{\\left(\\theta_{2}{\\left(t \\right)} \\right)} + b_{2} \\dot{\\theta}_{2} + g l_{2} m_{2} \\sin{\\left(\\theta_{2}{\\left(t \\right)} \\right)} + 1.0 l_{2}^{2} m_{2} \\ddot{\\theta}_{2} + \\dot{\\theta}_{1}^{2} \\left(1.0 J2xx \\sin{\\left(\\theta_{2}{\\left(t \\right)} \\right)} \\cos{\\left(\\theta_{2}{\\left(t \\right)} \\right)} - 1.0 J2yy \\sin{\\left(\\theta_{2}{\\left(t \\right)} \\right)} \\cos{\\left(\\theta_{2}{\\left(t \\right)} \\right)} - 1.0 l_{2}^{2} m_{2} \\sin{\\left(\\theta_{2}{\\left(t \\right)} \\right)} \\cos{\\left(\\theta_{2}{\\left(t \\right)} \\right)}\\right)\\end{equation*}"
      ],
      "text/plain": [
       "                                                                              \n",
       "1.0⋅J2zz⋅θ̈₂ + 1.0⋅L₁⋅l₂⋅m₂⋅θ̈₁⋅cos(θ₂(t)) + b₂⋅θ̇₂ + g⋅l₂⋅m₂⋅sin(θ₂(t)) + 1.0\n",
       "\n",
       "   2             2 ⎛                                                          \n",
       "⋅l₂ ⋅m₂⋅θ̈₂ + θ̇₁ ⋅⎝1.0⋅J2xx⋅sin(θ₂(t))⋅cos(θ₂(t)) - 1.0⋅J2yy⋅sin(θ₂(t))⋅cos(θ\n",
       "\n",
       "              2                         ⎞\n",
       "₂(t)) - 1.0⋅l₂ ⋅m₂⋅sin(θ₂(t))⋅cos(θ₂(t))⎠"
      ]
     },
     "execution_count": 10,
     "metadata": {},
     "output_type": "execute_result"
    }
   ],
   "source": [
    "roughτ2 = diff((diff(L[1],(diff(theta2,t)))),t) + b2*(diff(theta2,t)) - diff(L[1],theta2)\n",
    "cleanτ2 = roughτ2.subs([(diff(diff(theta1,t),t),thetaddot1),(diff(diff(theta2,t),t),thetaddot2),(diff(theta1,t),thetadot1),(diff(theta2,t),thetadot2)])\n",
    "τ2 = collect(expand(cleanτ2),thetadot1)"
   ]
  },
  {
   "cell_type": "code",
   "execution_count": 11,
   "metadata": {},
   "outputs": [
    {
     "data": {
      "text/latex": [
       "\\[ \\left[ \\begin{array}{r}0.5 J1zz \\left(\\frac{d}{d t} \\theta_{1}{\\left(t \\right)}\\right)^{2} + 0.5 J2xx \\cos^{2}{\\left(\\theta_{2}{\\left(t \\right)} \\right)} \\left(\\frac{d}{d t} \\theta_{1}{\\left(t \\right)}\\right)^{2} + 0.5 J2yy \\sin^{2}{\\left(\\theta_{2}{\\left(t \\right)} \\right)} \\left(\\frac{d}{d t} \\theta_{1}{\\left(t \\right)}\\right)^{2} + 0.5 J2zz \\left(\\frac{d}{d t} \\theta_{2}{\\left(t \\right)}\\right)^{2} + 0.5 L_{1}^{2} m_{2} \\sin^{2}{\\left(\\theta_{2}{\\left(t \\right)} \\right)} \\left(\\frac{d}{d t} \\theta_{1}{\\left(t \\right)}\\right)^{2} + g l_{2} m_{2} \\left(1 - \\cos{\\left(\\theta_{2}{\\left(t \\right)} \\right)}\\right) + 0.5 l_{1}^{2} m_{1} \\left(\\frac{d}{d t} \\theta_{1}{\\left(t \\right)}\\right)^{2} + 0.5 l_{2}^{2} m_{2} \\sin^{2}{\\left(\\theta_{2}{\\left(t \\right)} \\right)} \\left(\\frac{d}{d t} \\theta_{1}{\\left(t \\right)}\\right)^{2} + 0.5 m_{2} \\left(L_{1} \\cos{\\left(\\theta_{2}{\\left(t \\right)} \\right)} \\frac{d}{d t} \\theta_{1}{\\left(t \\right)} + l_{2} \\frac{d}{d t} \\theta_{2}{\\left(t \\right)}\\right)^{2}\\end{array} \\right] \\]"
      ],
      "text/plain": [
       "1-element Array{Sym,1}:\n",
       " 0.5*J1zz*Derivative(theta1(t), t)^2 + 0.5*J2xx*cos(theta2(t))^2*Derivative(theta1(t), t)^2 + 0.5*J2yy*sin(theta2(t))^2*Derivative(theta1(t), t)^2 + 0.5*J2zz*Derivative(theta2(t), t)^2 + 0.5*L1^2*m2*sin(theta2(t))^2*Derivative(theta1(t), t)^2 + g*l2*m2*(1 - cos(theta2(t))) + 0.5*l1^2*m1*Derivative(theta1(t), t)^2 + 0.5*l2^2*m2*sin(theta2(t))^2*Derivative(theta1(t), t)^2 + 0.5*m2*(L1*cos(theta2(t))*Derivative(theta1(t), t) + l2*Derivative(theta2(t), t))^2"
      ]
     },
     "execution_count": 11,
     "metadata": {},
     "output_type": "execute_result"
    }
   ],
   "source": [
    "E = Ek1 + Ek2 + Ep1 + Ep2"
   ]
  },
  {
   "cell_type": "code",
   "execution_count": null,
   "metadata": {},
   "outputs": [],
   "source": []
  },
  {
   "cell_type": "code",
   "execution_count": null,
   "metadata": {},
   "outputs": [],
   "source": []
  }
 ],
 "metadata": {
  "kernelspec": {
   "display_name": "Julia 1.3.0",
   "language": "julia",
   "name": "julia-1.3"
  },
  "language_info": {
   "file_extension": ".jl",
   "mimetype": "application/julia",
   "name": "julia",
   "version": "1.3.0"
  }
 },
 "nbformat": 4,
 "nbformat_minor": 2
}
