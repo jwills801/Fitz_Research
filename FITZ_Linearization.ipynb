{
 "cells": [
  {
   "cell_type": "code",
   "execution_count": 1,
   "metadata": {},
   "outputs": [],
   "source": [
    "using SymPy\n",
    "using LinearAlgebra\n",
    "@vars J0hat J2hat l1 L1 l2 m1 m2 g b1 b2 t thetadot1 thetadot2 thetaddot1 thetaddot2 tau1 tau2\n",
    "theta1 = SymFunction(\"theta1\")(t)\n",
    "theta2 = SymFunction(\"theta2\")(t);"
   ]
  },
  {
   "cell_type": "code",
   "execution_count": 2,
   "metadata": {},
   "outputs": [
    {
     "data": {
      "text/latex": [
       "\\begin{equation*}\\hat{J2} \\dot{\\theta}_{1} \\dot{\\theta}_{2} \\sin{\\left(2 \\theta_{2}{\\left(t \\right)} \\right)} + L_{1} l_{2} m_{2} \\ddot{\\theta}_{2} \\cos{\\left(\\theta_{2}{\\left(t \\right)} \\right)} - L_{1} l_{2} m_{2} \\dot{\\theta}_{2}^{2} \\sin{\\left(\\theta_{2}{\\left(t \\right)} \\right)} + b_{1} \\dot{\\theta}_{1} + \\ddot{\\theta}_{1} \\left(\\hat{J0} + \\hat{J2} \\sin^{2}{\\left(\\theta_{2}{\\left(t \\right)} \\right)}\\right)\\end{equation*}"
      ],
      "text/plain": [
       "                                                                 2            \n",
       "J2̂⋅θ̇₁⋅θ̇₂⋅sin(2⋅θ₂(t)) + L₁⋅l₂⋅m₂⋅θ̈₂⋅cos(θ₂(t)) - L₁⋅l₂⋅m₂⋅θ̇₂ ⋅sin(θ₂(t)) \n",
       "\n",
       "               ⎛             2       ⎞\n",
       "+ b₁⋅θ̇₁ + θ̈₁⋅⎝J0̂ + J2̂⋅sin (θ₂(t))⎠"
      ]
     },
     "execution_count": 2,
     "metadata": {},
     "output_type": "execute_result"
    }
   ],
   "source": [
    "torque1 = diff(diff(theta1,t),t)*(J0hat+J2hat*(sin(theta2))^2)+diff(diff(theta2,t),t)*m2*L1*l2*cos(theta2)-(diff(theta2,t))^2*m2*L1*l2*sin(theta2)+J2hat*diff(theta1,t)*diff(theta2,t)*sin(2*theta2)+b1*diff(theta1,t)\n",
    "cleantorque1 = torque1.subs([(diff(diff(theta1,t)),thetaddot1),(diff(diff(theta2,t)),thetaddot2),(diff(theta1,t),thetadot1),(diff(theta2,t),thetadot2)])"
   ]
  },
  {
   "cell_type": "code",
   "execution_count": 3,
   "metadata": {},
   "outputs": [
    {
     "data": {
      "text/latex": [
       "\\begin{equation*}\\hat{J2} \\ddot{\\theta}_{2} - 0.5 \\hat{J2} \\dot{\\theta}_{2}^{2} \\sin{\\left(2 \\theta_{2}{\\left(t \\right)} \\right)} + L_{1} l_{2} m_{2} \\ddot{\\theta}_{1} \\cos{\\left(\\theta_{2}{\\left(t \\right)} \\right)} + b_{2} \\dot{\\theta}_{2} + g l_{2} m_{2} \\sin{\\left(\\theta_{2}{\\left(t \\right)} \\right)}\\end{equation*}"
      ],
      "text/plain": [
       "                     2                                                        \n",
       "J2̂⋅θ̈₂ - 0.5⋅J2̂⋅θ̇₂ ⋅sin(2⋅θ₂(t)) + L₁⋅l₂⋅m₂⋅θ̈₁⋅cos(θ₂(t)) + b₂⋅θ̇₂ + g⋅l₂⋅\n",
       "\n",
       "             \n",
       "m₂⋅sin(θ₂(t))"
      ]
     },
     "execution_count": 3,
     "metadata": {},
     "output_type": "execute_result"
    }
   ],
   "source": [
    "torque2 = diff(diff(theta1,t),t)*m2*L1*l2*cos(theta2)+J2hat*diff(diff(theta2,t),t)-.5*(diff(theta2,t))^2*J2hat*sin(2*theta2)+b2*(diff(theta2,t))+g*m2*l2*sin(theta2)\n",
    "cleantorque2 = torque2.subs([(diff(diff(theta1,t)),thetaddot1),(diff(diff(theta2,t)),thetaddot2),(diff(theta1,t),thetadot1),(diff(theta2,t),thetadot2)])"
   ]
  },
  {
   "cell_type": "code",
   "execution_count": 4,
   "metadata": {},
   "outputs": [
    {
     "data": {
      "text/latex": [
       "\\begin{equation*}\\hat{J2} \\dot{\\theta}_{1} \\dot{\\theta}_{2} \\sin{\\left(2 \\theta_{2}{\\left(t \\right)} \\right)} + L_{1} l_{2} m_{2} \\ddot{\\theta}_{2} \\cos{\\left(\\theta_{2}{\\left(t \\right)} \\right)} - L_{1} l_{2} m_{2} \\dot{\\theta}_{2}^{2} \\sin{\\left(\\theta_{2}{\\left(t \\right)} \\right)} + b_{1} \\dot{\\theta}_{1} - \\tau_{1} + \\ddot{\\theta}_{1} \\left(\\hat{J0} + \\hat{J2} \\sin^{2}{\\left(\\theta_{2}{\\left(t \\right)} \\right)}\\right)\\end{equation*}"
      ],
      "text/plain": [
       "                                                                 2            \n",
       "J2̂⋅θ̇₁⋅θ̇₂⋅sin(2⋅θ₂(t)) + L₁⋅l₂⋅m₂⋅θ̈₂⋅cos(θ₂(t)) - L₁⋅l₂⋅m₂⋅θ̇₂ ⋅sin(θ₂(t)) \n",
       "\n",
       "                    ⎛             2       ⎞\n",
       "+ b₁⋅θ̇₁ - τ₁ + θ̈₁⋅⎝J0̂ + J2̂⋅sin (θ₂(t))⎠"
      ]
     },
     "execution_count": 4,
     "metadata": {},
     "output_type": "execute_result"
    }
   ],
   "source": [
    "zero1dirty = -tau1 + (diff(diff(theta1,t),t)*(J0hat+J2hat*(sin(theta2))^2)+diff(diff(theta2,t),t)*m2*L1*l2*cos(theta2)-(diff(theta2,t))^2*m2*L1*l2*sin(theta2)+J2hat*diff(theta1,t)*diff(theta2,t)*sin(2*theta2)+b1*diff(theta1,t))\n",
    "zero1 = zero1dirty.subs([(diff(diff(theta1,t)),thetaddot1),(diff(diff(theta2,t)),thetaddot2),(diff(theta1,t),thetadot1),(diff(theta2,t),thetadot2)])"
   ]
  },
  {
   "cell_type": "markdown",
   "metadata": {},
   "source": [
    "## New stuff\n",
    "\n",
    "Jackson, I added some stuff below here.  Basically, I made up some states to replace each coordinate and used subs to replace them.  The replacement scheme isn't very sophisticated, so I need to be careful on the order of the subs.\n",
    "\n",
    "I did not check your equations, just wanted to show you the pattern.  I don't know if I'm using the final equations, and I'm unsure of the inputs.\n",
    "\n",
    "First, I'll setup both equations simultaneously and solve for the 2nd derivative terms:"
   ]
  },
  {
   "cell_type": "code",
   "execution_count": 16,
   "metadata": {},
   "outputs": [
    {
     "data": {
      "text/plain": [
       "Dict{Any,Any} with 2 entries:\n",
       "  Derivative(theta2(t), (t, 2)) => (L1*l2*m2*(J2hat*sin(2.0*theta2(t))*Derivati…\n",
       "  Derivative(theta1(t), (t, 2)) => (-J2hat*(J2hat*sin(2.0*theta2(t))*Derivative…"
      ]
     },
     "execution_count": 16,
     "metadata": {},
     "output_type": "execute_result"
    }
   ],
   "source": [
    "sol = solve( [torque1, torque2], [diff(theta1,t,t), diff(theta2,t,t)] )"
   ]
  },
  {
   "cell_type": "markdown",
   "metadata": {},
   "source": [
    "Now I'll make some states, and replace $[z_1,z_2,z_3,z_4] = [\\theta_1,\\theta_2,\\dot{\\theta}_1,\\dot{\\theta}_2]$"
   ]
  },
  {
   "cell_type": "code",
   "execution_count": 17,
   "metadata": {},
   "outputs": [
    {
     "data": {
      "text/latex": [
       "\\begin{equation*}\\begin{cases}\\theta_{2}{\\left(t \\right)} & \\text{=>} &z_{2}\\\\\\theta_{1}{\\left(t \\right)} & \\text{=>} &z_{1}\\\\\\tau_{2} & \\text{=>} &u_{2}\\\\\\tau_{1} & \\text{=>} &u_{1}\\\\\\end{cases}\\end{equation*}"
      ],
      "text/plain": [
       "Dict{Sym,Sym} with 4 entries:\n",
       "  theta2(t) => z_2\n",
       "  theta1(t) => z_1\n",
       "  tau2      => u2\n",
       "  tau1      => u1"
      ]
     },
     "execution_count": 17,
     "metadata": {},
     "output_type": "execute_result"
    }
   ],
   "source": [
    "z1,z2,z3,z4,u1,u2 = symbols(\"z_1,z_2,z_3,z_4,u1, u2\")\n",
    "rule1 = Dict(  diff(theta1,t)=>z3, diff(theta2,t)=>z4 )\n",
    "rule2 = Dict( theta1=>z1, theta2=>z2, tau1=>u1, tau2=>u2 )"
   ]
  },
  {
   "cell_type": "markdown",
   "metadata": {},
   "source": [
    "Now build $\\dot{z} = f(z,u)$  (remember I'm not sure I have the inputs $u$ correct).  I'm going to do this in a verbose way, so you can follow along:"
   ]
  },
  {
   "cell_type": "code",
   "execution_count": 26,
   "metadata": {},
   "outputs": [
    {
     "data": {
      "text/latex": [
       "\\[ \\left[ \\begin{array}{r}\\frac{d}{d t} \\theta_{1}{\\left(t \\right)}\\\\\\frac{d}{d t} \\theta_{2}{\\left(t \\right)}\\\\\\frac{d^{2}}{d t^{2}} \\theta_{1}{\\left(t \\right)}\\\\\\frac{d^{2}}{d t^{2}} \\theta_{2}{\\left(t \\right)}\\end{array} \\right] \\]"
      ],
      "text/plain": [
       "4-element Array{Sym,1}:\n",
       "      Derivative(theta1(t), t)\n",
       "      Derivative(theta2(t), t)\n",
       " Derivative(theta1(t), (t, 2))\n",
       " Derivative(theta2(t), (t, 2))"
      ]
     },
     "execution_count": 26,
     "metadata": {},
     "output_type": "execute_result"
    }
   ],
   "source": [
    "zdot = [diff(theta1,t),diff(theta2,t), diff(theta1,t,t), diff(theta2,t,t)]"
   ]
  },
  {
   "cell_type": "code",
   "execution_count": 27,
   "metadata": {},
   "outputs": [
    {
     "data": {
      "text/latex": [
       "\\[ \\left[ \\begin{array}{r}\\frac{d}{d t} \\theta_{1}{\\left(t \\right)}\\\\\\frac{d}{d t} \\theta_{2}{\\left(t \\right)}\\\\\\frac{- \\hat{J2} \\left(\\hat{J2} \\sin{\\left(2.0 \\theta_{2}{\\left(t \\right)} \\right)} \\frac{d}{d t} \\theta_{1}{\\left(t \\right)} \\frac{d}{d t} \\theta_{2}{\\left(t \\right)} - L_{1} l_{2} m_{2} \\sin{\\left(\\theta_{2}{\\left(t \\right)} \\right)} \\left(\\frac{d}{d t} \\theta_{2}{\\left(t \\right)}\\right)^{2} + b_{1} \\frac{d}{d t} \\theta_{1}{\\left(t \\right)}\\right) + 0.5 L_{1} l_{2} m_{2} \\left(- \\hat{J2} \\sin{\\left(2.0 \\theta_{2}{\\left(t \\right)} \\right)} \\left(\\frac{d}{d t} \\theta_{2}{\\left(t \\right)}\\right)^{2} + 2.0 b_{2} \\frac{d}{d t} \\theta_{2}{\\left(t \\right)} + 2.0 g l_{2} m_{2} \\sin{\\left(\\theta_{2}{\\left(t \\right)} \\right)}\\right) \\cos{\\left(\\theta_{2}{\\left(t \\right)} \\right)}}{\\hat{J2} \\left(\\hat{J0} + \\hat{J2} \\sin^{2}{\\left(\\theta_{2}{\\left(t \\right)} \\right)}\\right) - L_{1}^{2} l_{2}^{2} m_{2}^{2} \\cos^{2}{\\left(\\theta_{2}{\\left(t \\right)} \\right)}}\\\\\\frac{L_{1} l_{2} m_{2} \\left(\\hat{J2} \\sin{\\left(2.0 \\theta_{2}{\\left(t \\right)} \\right)} \\frac{d}{d t} \\theta_{1}{\\left(t \\right)} \\frac{d}{d t} \\theta_{2}{\\left(t \\right)} - L_{1} l_{2} m_{2} \\sin{\\left(\\theta_{2}{\\left(t \\right)} \\right)} \\left(\\frac{d}{d t} \\theta_{2}{\\left(t \\right)}\\right)^{2} + b_{1} \\frac{d}{d t} \\theta_{1}{\\left(t \\right)}\\right) \\cos{\\left(\\theta_{2}{\\left(t \\right)} \\right)} - 0.5 \\left(\\hat{J0} + \\hat{J2} \\sin^{2}{\\left(\\theta_{2}{\\left(t \\right)} \\right)}\\right) \\left(- \\hat{J2} \\sin{\\left(2.0 \\theta_{2}{\\left(t \\right)} \\right)} \\left(\\frac{d}{d t} \\theta_{2}{\\left(t \\right)}\\right)^{2} + 2.0 b_{2} \\frac{d}{d t} \\theta_{2}{\\left(t \\right)} + 2.0 g l_{2} m_{2} \\sin{\\left(\\theta_{2}{\\left(t \\right)} \\right)}\\right)}{\\hat{J2} \\left(\\hat{J0} + \\hat{J2} \\sin^{2}{\\left(\\theta_{2}{\\left(t \\right)} \\right)}\\right) - L_{1}^{2} l_{2}^{2} m_{2}^{2} \\cos^{2}{\\left(\\theta_{2}{\\left(t \\right)} \\right)}}\\end{array} \\right] \\]"
      ],
      "text/plain": [
       "4-element Array{Sym,1}:\n",
       "                                                                                                                                                                                                                                                                                                                                                                                                          Derivative(theta1(t), t)\n",
       "                                                                                                                                                                                                                                                                                                                                                                                                          Derivative(theta2(t), t)\n",
       "                           (-J2hat*(J2hat*sin(2.0*theta2(t))*Derivative(theta1(t), t)*Derivative(theta2(t), t) - L1*l2*m2*sin(theta2(t))*Derivative(theta2(t), t)^2 + b1*Derivative(theta1(t), t)) + 0.5*L1*l2*m2*(-J2hat*sin(2.0*theta2(t))*Derivative(theta2(t), t)^2 + 2.0*b2*Derivative(theta2(t), t) + 2.0*g*l2*m2*sin(theta2(t)))*cos(theta2(t)))/(J2hat*(J0hat + J2hat*sin(theta2(t))^2) - L1^2*l2^2*m2^2*cos(theta2(t))^2)\n",
       " (L1*l2*m2*(J2hat*sin(2.0*theta2(t))*Derivative(theta1(t), t)*Derivative(theta2(t), t) - L1*l2*m2*sin(theta2(t))*Derivative(theta2(t), t)^2 + b1*Derivative(theta1(t), t))*cos(theta2(t)) - 0.5*(J0hat + J2hat*sin(theta2(t))^2)*(-J2hat*sin(2.0*theta2(t))*Derivative(theta2(t), t)^2 + 2.0*b2*Derivative(theta2(t), t) + 2.0*g*l2*m2*sin(theta2(t))))/(J2hat*(J0hat + J2hat*sin(theta2(t))^2) - L1^2*l2^2*m2^2*cos(theta2(t))^2)"
      ]
     },
     "execution_count": 27,
     "metadata": {},
     "output_type": "execute_result"
    }
   ],
   "source": [
    "zdot1 = [zd |> subs(sol) for zd in zdot] # this is a loop"
   ]
  },
  {
   "cell_type": "code",
   "execution_count": 28,
   "metadata": {},
   "outputs": [
    {
     "data": {
      "text/latex": [
       "\\[ \\left[ \\begin{array}{r}z_{3}\\\\z_{4}\\\\\\frac{- \\hat{J2} \\left(\\hat{J2} z_{3} z_{4} \\sin{\\left(2.0 \\theta_{2}{\\left(t \\right)} \\right)} - L_{1} l_{2} m_{2} z_{4}^{2} \\sin{\\left(\\theta_{2}{\\left(t \\right)} \\right)} + b_{1} z_{3}\\right) + 0.5 L_{1} l_{2} m_{2} \\left(- \\hat{J2} z_{4}^{2} \\sin{\\left(2.0 \\theta_{2}{\\left(t \\right)} \\right)} + 2.0 b_{2} z_{4} + 2.0 g l_{2} m_{2} \\sin{\\left(\\theta_{2}{\\left(t \\right)} \\right)}\\right) \\cos{\\left(\\theta_{2}{\\left(t \\right)} \\right)}}{\\hat{J2} \\left(\\hat{J0} + \\hat{J2} \\sin^{2}{\\left(\\theta_{2}{\\left(t \\right)} \\right)}\\right) - L_{1}^{2} l_{2}^{2} m_{2}^{2} \\cos^{2}{\\left(\\theta_{2}{\\left(t \\right)} \\right)}}\\\\\\frac{L_{1} l_{2} m_{2} \\left(\\hat{J2} z_{3} z_{4} \\sin{\\left(2.0 \\theta_{2}{\\left(t \\right)} \\right)} - L_{1} l_{2} m_{2} z_{4}^{2} \\sin{\\left(\\theta_{2}{\\left(t \\right)} \\right)} + b_{1} z_{3}\\right) \\cos{\\left(\\theta_{2}{\\left(t \\right)} \\right)} - 0.5 \\left(\\hat{J0} + \\hat{J2} \\sin^{2}{\\left(\\theta_{2}{\\left(t \\right)} \\right)}\\right) \\left(- \\hat{J2} z_{4}^{2} \\sin{\\left(2.0 \\theta_{2}{\\left(t \\right)} \\right)} + 2.0 b_{2} z_{4} + 2.0 g l_{2} m_{2} \\sin{\\left(\\theta_{2}{\\left(t \\right)} \\right)}\\right)}{\\hat{J2} \\left(\\hat{J0} + \\hat{J2} \\sin^{2}{\\left(\\theta_{2}{\\left(t \\right)} \\right)}\\right) - L_{1}^{2} l_{2}^{2} m_{2}^{2} \\cos^{2}{\\left(\\theta_{2}{\\left(t \\right)} \\right)}}\\end{array} \\right] \\]"
      ],
      "text/plain": [
       "4-element Array{Sym,1}:\n",
       "                                                                                                                                                                                                                                                                                                 z_3\n",
       "                                                                                                                                                                                                                                                                                                 z_4\n",
       "                           (-J2hat*(J2hat*z_3*z_4*sin(2.0*theta2(t)) - L1*l2*m2*z_4^2*sin(theta2(t)) + b1*z_3) + 0.5*L1*l2*m2*(-J2hat*z_4^2*sin(2.0*theta2(t)) + 2.0*b2*z_4 + 2.0*g*l2*m2*sin(theta2(t)))*cos(theta2(t)))/(J2hat*(J0hat + J2hat*sin(theta2(t))^2) - L1^2*l2^2*m2^2*cos(theta2(t))^2)\n",
       " (L1*l2*m2*(J2hat*z_3*z_4*sin(2.0*theta2(t)) - L1*l2*m2*z_4^2*sin(theta2(t)) + b1*z_3)*cos(theta2(t)) - 0.5*(J0hat + J2hat*sin(theta2(t))^2)*(-J2hat*z_4^2*sin(2.0*theta2(t)) + 2.0*b2*z_4 + 2.0*g*l2*m2*sin(theta2(t))))/(J2hat*(J0hat + J2hat*sin(theta2(t))^2) - L1^2*l2^2*m2^2*cos(theta2(t))^2)"
      ]
     },
     "execution_count": 28,
     "metadata": {},
     "output_type": "execute_result"
    }
   ],
   "source": [
    "[ zd |> subs(rule1) for zd in zdot1 ]"
   ]
  },
  {
   "cell_type": "code",
   "execution_count": 30,
   "metadata": {},
   "outputs": [
    {
     "data": {
      "text/latex": [
       "\\[ \\left[ \\begin{array}{r}z_{3}\\\\z_{4}\\\\\\frac{- \\hat{J2} \\left(\\hat{J2} z_{3} z_{4} \\sin{\\left(2.0 z_{2} \\right)} - L_{1} l_{2} m_{2} z_{4}^{2} \\sin{\\left(z_{2} \\right)} + b_{1} z_{3}\\right) + 0.5 L_{1} l_{2} m_{2} \\left(- \\hat{J2} z_{4}^{2} \\sin{\\left(2.0 z_{2} \\right)} + 2.0 b_{2} z_{4} + 2.0 g l_{2} m_{2} \\sin{\\left(z_{2} \\right)}\\right) \\cos{\\left(z_{2} \\right)}}{\\hat{J2} \\left(\\hat{J0} + \\hat{J2} \\sin^{2}{\\left(z_{2} \\right)}\\right) - L_{1}^{2} l_{2}^{2} m_{2}^{2} \\cos^{2}{\\left(z_{2} \\right)}}\\\\\\frac{L_{1} l_{2} m_{2} \\left(\\hat{J2} z_{3} z_{4} \\sin{\\left(2.0 z_{2} \\right)} - L_{1} l_{2} m_{2} z_{4}^{2} \\sin{\\left(z_{2} \\right)} + b_{1} z_{3}\\right) \\cos{\\left(z_{2} \\right)} - 0.5 \\left(\\hat{J0} + \\hat{J2} \\sin^{2}{\\left(z_{2} \\right)}\\right) \\left(- \\hat{J2} z_{4}^{2} \\sin{\\left(2.0 z_{2} \\right)} + 2.0 b_{2} z_{4} + 2.0 g l_{2} m_{2} \\sin{\\left(z_{2} \\right)}\\right)}{\\hat{J2} \\left(\\hat{J0} + \\hat{J2} \\sin^{2}{\\left(z_{2} \\right)}\\right) - L_{1}^{2} l_{2}^{2} m_{2}^{2} \\cos^{2}{\\left(z_{2} \\right)}}\\end{array} \\right] \\]"
      ],
      "text/plain": [
       "4-element Array{Sym,1}:\n",
       "                                                                                                                                                                                                                                                 z_3\n",
       "                                                                                                                                                                                                                                                 z_4\n",
       "                     (-J2hat*(J2hat*z_3*z_4*sin(2.0*z_2) - L1*l2*m2*z_4^2*sin(z_2) + b1*z_3) + 0.5*L1*l2*m2*(-J2hat*z_4^2*sin(2.0*z_2) + 2.0*b2*z_4 + 2.0*g*l2*m2*sin(z_2))*cos(z_2))/(J2hat*(J0hat + J2hat*sin(z_2)^2) - L1^2*l2^2*m2^2*cos(z_2)^2)\n",
       " (L1*l2*m2*(J2hat*z_3*z_4*sin(2.0*z_2) - L1*l2*m2*z_4^2*sin(z_2) + b1*z_3)*cos(z_2) - 0.5*(J0hat + J2hat*sin(z_2)^2)*(-J2hat*z_4^2*sin(2.0*z_2) + 2.0*b2*z_4 + 2.0*g*l2*m2*sin(z_2)))/(J2hat*(J0hat + J2hat*sin(z_2)^2) - L1^2*l2^2*m2^2*cos(z_2)^2)"
      ]
     },
     "execution_count": 30,
     "metadata": {},
     "output_type": "execute_result"
    }
   ],
   "source": [
    "F = [ zd |> subs(rule1) |> subs(rule2) for zd in zdot1 ]"
   ]
  },
  {
   "cell_type": "markdown",
   "metadata": {},
   "source": [
    "Now we can linearize"
   ]
  },
  {
   "cell_type": "code",
   "execution_count": 38,
   "metadata": {},
   "outputs": [
    {
     "data": {
      "text/latex": [
       "\\[\\left[ \\begin{array}{rrrr}0&0&1&0\\\\0&0&0&1\\\\0&\\frac{- \\hat{J2} \\left(2.0 \\hat{J2} z_{3} z_{4} \\cos{\\left(2.0 z_{2} \\right)} - L_{1} l_{2} m_{2} z_{4}^{2} \\cos{\\left(z_{2} \\right)}\\right) + 0.5 L_{1} l_{2} m_{2} \\left(- 2.0 \\hat{J2} z_{4}^{2} \\cos{\\left(2.0 z_{2} \\right)} + 2.0 g l_{2} m_{2} \\cos{\\left(z_{2} \\right)}\\right) \\cos{\\left(z_{2} \\right)} - 0.5 L_{1} l_{2} m_{2} \\left(- \\hat{J2} z_{4}^{2} \\sin{\\left(2.0 z_{2} \\right)} + 2.0 b_{2} z_{4} + 2.0 g l_{2} m_{2} \\sin{\\left(z_{2} \\right)}\\right) \\sin{\\left(z_{2} \\right)}}{\\hat{J2} \\left(\\hat{J0} + \\hat{J2} \\sin^{2}{\\left(z_{2} \\right)}\\right) - L_{1}^{2} l_{2}^{2} m_{2}^{2} \\cos^{2}{\\left(z_{2} \\right)}} + \\frac{\\left(- \\hat{J2} \\left(\\hat{J2} z_{3} z_{4} \\sin{\\left(2.0 z_{2} \\right)} - L_{1} l_{2} m_{2} z_{4}^{2} \\sin{\\left(z_{2} \\right)} + b_{1} z_{3}\\right) + 0.5 L_{1} l_{2} m_{2} \\left(- \\hat{J2} z_{4}^{2} \\sin{\\left(2.0 z_{2} \\right)} + 2.0 b_{2} z_{4} + 2.0 g l_{2} m_{2} \\sin{\\left(z_{2} \\right)}\\right) \\cos{\\left(z_{2} \\right)}\\right) \\left(- 2 \\hat{J2}^{2} \\sin{\\left(z_{2} \\right)} \\cos{\\left(z_{2} \\right)} - 2 L_{1}^{2} l_{2}^{2} m_{2}^{2} \\sin{\\left(z_{2} \\right)} \\cos{\\left(z_{2} \\right)}\\right)}{\\left(\\hat{J2} \\left(\\hat{J0} + \\hat{J2} \\sin^{2}{\\left(z_{2} \\right)}\\right) - L_{1}^{2} l_{2}^{2} m_{2}^{2} \\cos^{2}{\\left(z_{2} \\right)}\\right)^{2}}&- \\frac{\\hat{J2} \\left(\\hat{J2} z_{4} \\sin{\\left(2.0 z_{2} \\right)} + b_{1}\\right)}{\\hat{J2} \\left(\\hat{J0} + \\hat{J2} \\sin^{2}{\\left(z_{2} \\right)}\\right) - L_{1}^{2} l_{2}^{2} m_{2}^{2} \\cos^{2}{\\left(z_{2} \\right)}}&\\frac{- \\hat{J2} \\left(\\hat{J2} z_{3} \\sin{\\left(2.0 z_{2} \\right)} - 2 L_{1} l_{2} m_{2} z_{4} \\sin{\\left(z_{2} \\right)}\\right) + 0.5 L_{1} l_{2} m_{2} \\left(- 2 \\hat{J2} z_{4} \\sin{\\left(2.0 z_{2} \\right)} + 2.0 b_{2}\\right) \\cos{\\left(z_{2} \\right)}}{\\hat{J2} \\left(\\hat{J0} + \\hat{J2} \\sin^{2}{\\left(z_{2} \\right)}\\right) - L_{1}^{2} l_{2}^{2} m_{2}^{2} \\cos^{2}{\\left(z_{2} \\right)}}\\\\0&\\frac{- 1.0 \\hat{J2} \\left(- \\hat{J2} z_{4}^{2} \\sin{\\left(2.0 z_{2} \\right)} + 2.0 b_{2} z_{4} + 2.0 g l_{2} m_{2} \\sin{\\left(z_{2} \\right)}\\right) \\sin{\\left(z_{2} \\right)} \\cos{\\left(z_{2} \\right)} + L_{1} l_{2} m_{2} \\left(2.0 \\hat{J2} z_{3} z_{4} \\cos{\\left(2.0 z_{2} \\right)} - L_{1} l_{2} m_{2} z_{4}^{2} \\cos{\\left(z_{2} \\right)}\\right) \\cos{\\left(z_{2} \\right)} - L_{1} l_{2} m_{2} \\left(\\hat{J2} z_{3} z_{4} \\sin{\\left(2.0 z_{2} \\right)} - L_{1} l_{2} m_{2} z_{4}^{2} \\sin{\\left(z_{2} \\right)} + b_{1} z_{3}\\right) \\sin{\\left(z_{2} \\right)} + \\left(- 0.5 \\hat{J0} - 0.5 \\hat{J2} \\sin^{2}{\\left(z_{2} \\right)}\\right) \\left(- 2.0 \\hat{J2} z_{4}^{2} \\cos{\\left(2.0 z_{2} \\right)} + 2.0 g l_{2} m_{2} \\cos{\\left(z_{2} \\right)}\\right)}{\\hat{J2} \\left(\\hat{J0} + \\hat{J2} \\sin^{2}{\\left(z_{2} \\right)}\\right) - L_{1}^{2} l_{2}^{2} m_{2}^{2} \\cos^{2}{\\left(z_{2} \\right)}} + \\frac{\\left(- 2 \\hat{J2}^{2} \\sin{\\left(z_{2} \\right)} \\cos{\\left(z_{2} \\right)} - 2 L_{1}^{2} l_{2}^{2} m_{2}^{2} \\sin{\\left(z_{2} \\right)} \\cos{\\left(z_{2} \\right)}\\right) \\left(L_{1} l_{2} m_{2} \\left(\\hat{J2} z_{3} z_{4} \\sin{\\left(2.0 z_{2} \\right)} - L_{1} l_{2} m_{2} z_{4}^{2} \\sin{\\left(z_{2} \\right)} + b_{1} z_{3}\\right) \\cos{\\left(z_{2} \\right)} - 0.5 \\left(\\hat{J0} + \\hat{J2} \\sin^{2}{\\left(z_{2} \\right)}\\right) \\left(- \\hat{J2} z_{4}^{2} \\sin{\\left(2.0 z_{2} \\right)} + 2.0 b_{2} z_{4} + 2.0 g l_{2} m_{2} \\sin{\\left(z_{2} \\right)}\\right)\\right)}{\\left(\\hat{J2} \\left(\\hat{J0} + \\hat{J2} \\sin^{2}{\\left(z_{2} \\right)}\\right) - L_{1}^{2} l_{2}^{2} m_{2}^{2} \\cos^{2}{\\left(z_{2} \\right)}\\right)^{2}}&\\frac{L_{1} l_{2} m_{2} \\left(\\hat{J2} z_{4} \\sin{\\left(2.0 z_{2} \\right)} + b_{1}\\right) \\cos{\\left(z_{2} \\right)}}{\\hat{J2} \\left(\\hat{J0} + \\hat{J2} \\sin^{2}{\\left(z_{2} \\right)}\\right) - L_{1}^{2} l_{2}^{2} m_{2}^{2} \\cos^{2}{\\left(z_{2} \\right)}}&\\frac{L_{1} l_{2} m_{2} \\left(\\hat{J2} z_{3} \\sin{\\left(2.0 z_{2} \\right)} - 2 L_{1} l_{2} m_{2} z_{4} \\sin{\\left(z_{2} \\right)}\\right) \\cos{\\left(z_{2} \\right)} + \\left(- 0.5 \\hat{J0} - 0.5 \\hat{J2} \\sin^{2}{\\left(z_{2} \\right)}\\right) \\left(- 2 \\hat{J2} z_{4} \\sin{\\left(2.0 z_{2} \\right)} + 2.0 b_{2}\\right)}{\\hat{J2} \\left(\\hat{J0} + \\hat{J2} \\sin^{2}{\\left(z_{2} \\right)}\\right) - L_{1}^{2} l_{2}^{2} m_{2}^{2} \\cos^{2}{\\left(z_{2} \\right)}}\\end{array}\\right]\\]"
      ],
      "text/plain": [
       "4×4 Array{Sym,2}:\n",
       " 0  …                                                                                                                                                                                                                 0\n",
       " 0                                                                                                                                                                                                                    1\n",
       " 0                              (-J2hat*(J2hat*z_3*sin(2.0*z_2) - 2*L1*l2*m2*z_4*sin(z_2)) + 0.5*L1*l2*m2*(-2*J2hat*z_4*sin(2.0*z_2) + 2.0*b2)*cos(z_2))/(J2hat*(J0hat + J2hat*sin(z_2)^2) - L1^2*l2^2*m2^2*cos(z_2)^2)\n",
       " 0     (L1*l2*m2*(J2hat*z_3*sin(2.0*z_2) - 2*L1*l2*m2*z_4*sin(z_2))*cos(z_2) + (-0.5*J0hat - 0.5*J2hat*sin(z_2)^2)*(-2*J2hat*z_4*sin(2.0*z_2) + 2.0*b2))/(J2hat*(J0hat + J2hat*sin(z_2)^2) - L1^2*l2^2*m2^2*cos(z_2)^2)"
      ]
     },
     "execution_count": 38,
     "metadata": {},
     "output_type": "execute_result"
    }
   ],
   "source": [
    "DF = [diff(f,z) for f in F, z in [z1,z2,z3,z4] ]"
   ]
  },
  {
   "cell_type": "markdown",
   "metadata": {},
   "source": [
    "Now evaluate at equilibrium $z_3 \\to 0$ and $z_4 \\to 0$.  I don't know if $z_2 \\to 0$ or $\\pi$, but that should be added here:"
   ]
  },
  {
   "cell_type": "code",
   "execution_count": 42,
   "metadata": {},
   "outputs": [
    {
     "data": {
      "text/latex": [
       "\\[\\left[ \\begin{array}{rrrr}0&0&1&0\\\\0&0&0&1\\\\0&\\frac{L_{1} g l_{2}^{2} m_{2}^{2} \\left(2.0 \\hat{J0} \\hat{J2} \\cos^{2}{\\left(z_{2} \\right)} - 1.0 \\hat{J0} \\hat{J2} + 1.0 \\hat{J2}^{2} \\cos^{2}{\\left(z_{2} \\right)} - 1.0 \\hat{J2}^{2} - 1.0 L_{1}^{2} l_{2}^{2} m_{2}^{2} \\cos^{2}{\\left(z_{2} \\right)}\\right)}{\\left(\\hat{J2} \\left(\\hat{J0} + \\hat{J2} \\sin^{2}{\\left(z_{2} \\right)}\\right) - L_{1}^{2} l_{2}^{2} m_{2}^{2} \\cos^{2}{\\left(z_{2} \\right)}\\right)^{2}}&- \\frac{\\hat{J2} b_{1}}{\\hat{J2} \\left(\\hat{J0} + \\hat{J2} \\sin^{2}{\\left(z_{2} \\right)}\\right) - L_{1}^{2} l_{2}^{2} m_{2}^{2} \\cos^{2}{\\left(z_{2} \\right)}}&\\frac{1.0 L_{1} b_{2} l_{2} m_{2} \\cos{\\left(z_{2} \\right)}}{\\hat{J2} \\left(\\hat{J0} + \\hat{J2} \\sin^{2}{\\left(z_{2} \\right)}\\right) - L_{1}^{2} l_{2}^{2} m_{2}^{2} \\cos^{2}{\\left(z_{2} \\right)}}\\\\0&\\frac{g l_{2} m_{2} \\left(2.0 \\left(\\hat{J0} + \\hat{J2} \\sin^{2}{\\left(z_{2} \\right)}\\right) \\left(\\hat{J2}^{2} + L_{1}^{2} l_{2}^{2} m_{2}^{2}\\right) \\sin^{2}{\\left(z_{2} \\right)} - \\left(1.0 \\hat{J0} + 3.0 \\hat{J2} \\sin^{2}{\\left(z_{2} \\right)}\\right) \\left(\\hat{J2} \\left(\\hat{J0} + \\hat{J2} \\sin^{2}{\\left(z_{2} \\right)}\\right) - L_{1}^{2} l_{2}^{2} m_{2}^{2} \\cos^{2}{\\left(z_{2} \\right)}\\right)\\right) \\cos{\\left(z_{2} \\right)}}{\\left(\\hat{J2} \\left(\\hat{J0} + \\hat{J2} \\sin^{2}{\\left(z_{2} \\right)}\\right) - L_{1}^{2} l_{2}^{2} m_{2}^{2} \\cos^{2}{\\left(z_{2} \\right)}\\right)^{2}}&\\frac{L_{1} b_{1} l_{2} m_{2} \\cos{\\left(z_{2} \\right)}}{\\hat{J2} \\left(\\hat{J0} + \\hat{J2} \\sin^{2}{\\left(z_{2} \\right)}\\right) - L_{1}^{2} l_{2}^{2} m_{2}^{2} \\cos^{2}{\\left(z_{2} \\right)}}&- \\frac{1.0 b_{2} \\left(\\hat{J0} + \\hat{J2} \\sin^{2}{\\left(z_{2} \\right)}\\right)}{\\hat{J2} \\left(\\hat{J0} + \\hat{J2} \\sin^{2}{\\left(z_{2} \\right)}\\right) - L_{1}^{2} l_{2}^{2} m_{2}^{2} \\cos^{2}{\\left(z_{2} \\right)}}\\end{array}\\right]\\]"
      ],
      "text/plain": [
       "4×4 Array{Sym,2}:\n",
       " 0  …                                                                                                  0\n",
       " 0                                                                                                     1\n",
       " 0               1.0*L1*b2*l2*m2*cos(z_2)/(J2hat*(J0hat + J2hat*sin(z_2)^2) - L1^2*l2^2*m2^2*cos(z_2)^2)\n",
       " 0     -1.0*b2*(J0hat + J2hat*sin(z_2)^2)/(J2hat*(J0hat + J2hat*sin(z_2)^2) - L1^2*l2^2*m2^2*cos(z_2)^2)"
      ]
     },
     "execution_count": 42,
     "metadata": {},
     "output_type": "execute_result"
    }
   ],
   "source": [
    "A = [df|> subs(z3=>0,z4=>0)|> simplify for df in DF]"
   ]
  },
  {
   "cell_type": "markdown",
   "metadata": {},
   "source": [
    "The last step is to find $B$, which follows a similar pattern."
   ]
  },
  {
   "cell_type": "code",
   "execution_count": null,
   "metadata": {},
   "outputs": [],
   "source": []
  }
 ],
 "metadata": {
  "kernelspec": {
   "display_name": "Julia 1.3.0",
   "language": "julia",
   "name": "julia-1.3"
  },
  "language_info": {
   "file_extension": ".jl",
   "mimetype": "application/julia",
   "name": "julia",
   "version": "1.3.0"
  }
 },
 "nbformat": 4,
 "nbformat_minor": 2
}
