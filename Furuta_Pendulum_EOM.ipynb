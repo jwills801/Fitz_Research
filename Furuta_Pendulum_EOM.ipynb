{
 "cells": [
  {
   "cell_type": "code",
   "execution_count": 1,
   "metadata": {},
   "outputs": [],
   "source": [
    "using SymPy\n",
    "using LinearAlgebra\n",
    "import DifferentialEquations\n",
    "@vars J1xx J1yy J1zz J2xx J2yy J2zz l1 L1 l2 m1 m2 g b1 b2 t thetadot1 thetadot2 thetaddot1 thetaddot2\n",
    ";"
   ]
  },
  {
   "cell_type": "code",
   "execution_count": 2,
   "metadata": {},
   "outputs": [],
   "source": [
    "theta1 = SymFunction(\"theta1\")(t)\n",
    "theta2 = SymFunction(\"theta2\")(t);"
   ]
  },
  {
   "cell_type": "code",
   "execution_count": 3,
   "metadata": {},
   "outputs": [],
   "source": [
    "J1 = [J1xx 0 0; 0 J1yy 0; 0 0 J1zz]\n",
    "J2 = [J2xx 0 0; 0 J2yy 0; 0 0 J2zz];"
   ]
  },
  {
   "cell_type": "code",
   "execution_count": 4,
   "metadata": {},
   "outputs": [],
   "source": [
    "R1 = [cos(theta1) sin(theta1) 0; -sin(theta1) cos(theta1) 0; 0 0 1]\n",
    "R2 = [0 sin(theta2) -cos(theta2); 0 cos(theta2) sin(theta2); 1 0 0];"
   ]
  },
  {
   "cell_type": "code",
   "execution_count": 5,
   "metadata": {},
   "outputs": [],
   "source": [
    "ω1 = [0;0;diff(theta1,t)]\n",
    "r1 = [l1;0;0]\n",
    "v1c = cross(ω1, r1)\n",
    "ω2 = R2*ω1 + [0;0;diff(theta2,t)]\n",
    "v2 = R2*(cross(ω1,[L1;0;0]))\n",
    "r2 = [l2;0;0]\n",
    "v2c = v2 + (cross(ω2, r2));"
   ]
  },
  {
   "cell_type": "code",
   "execution_count": 6,
   "metadata": {},
   "outputs": [
    {
     "data": {
      "text/latex": [
       "\\[\\left[ \\begin{array}{r}0\\\\l_{1} \\dot{\\theta}_{1}\\\\0\\end{array}\\right]\\]"
      ],
      "text/plain": [
       "3×1 Array{Sym,2}:\n",
       "            0\n",
       " l1*thetadot1\n",
       "            0"
      ]
     },
     "execution_count": 6,
     "metadata": {},
     "output_type": "execute_result"
    }
   ],
   "source": [
    "v1c.subs(diff(theta1,t),thetadot1)"
   ]
  },
  {
   "cell_type": "code",
   "execution_count": 7,
   "metadata": {},
   "outputs": [
    {
     "data": {
      "text/latex": [
       "\\[\\left[ \\begin{array}{r}L_{1} \\dot{\\theta}_{1} \\sin{\\left(\\theta_{2}{\\left(t \\right)} \\right)}\\\\L_{1} \\dot{\\theta}_{1} \\cos{\\left(\\theta_{2}{\\left(t \\right)} \\right)} + l_{2} \\dot{\\theta}_{2}\\\\- l_{2} \\dot{\\theta}_{1} \\sin{\\left(\\theta_{2}{\\left(t \\right)} \\right)}\\end{array}\\right]\\]"
      ],
      "text/plain": [
       "3×1 Array{Sym,2}:\n",
       "                L1*thetadot1*sin(theta2(t))\n",
       " L1*thetadot1*cos(theta2(t)) + l2*thetadot2\n",
       "               -l2*thetadot1*sin(theta2(t))"
      ]
     },
     "execution_count": 7,
     "metadata": {},
     "output_type": "execute_result"
    }
   ],
   "source": [
    "v2c.subs([(diff(theta1,t),thetadot1),(diff(theta2,t),thetadot2)])"
   ]
  },
  {
   "cell_type": "code",
   "execution_count": 8,
   "metadata": {},
   "outputs": [
    {
     "data": {
      "text/latex": [
       "\\begin{equation*}- 2.0 J2xx \\dot{\\theta}_{1} \\dot{\\theta}_{2} \\sin{\\left(\\theta_{2}{\\left(t \\right)} \\right)} \\cos{\\left(\\theta_{2}{\\left(t \\right)} \\right)} + 2.0 J2yy \\dot{\\theta}_{1} \\dot{\\theta}_{2} \\sin{\\left(\\theta_{2}{\\left(t \\right)} \\right)} \\cos{\\left(\\theta_{2}{\\left(t \\right)} \\right)} + 1.0 L_{1} l_{2} m_{2} \\ddot{\\theta}_{2} \\cos{\\left(\\theta_{2}{\\left(t \\right)} \\right)} - 1.0 L_{1} l_{2} m_{2} \\dot{\\theta}_{2}^{2} \\sin{\\left(\\theta_{2}{\\left(t \\right)} \\right)} + b_{1} \\dot{\\theta}_{1} + 2.0 l_{2}^{2} m_{2} \\dot{\\theta}_{1} \\dot{\\theta}_{2} \\sin{\\left(\\theta_{2}{\\left(t \\right)} \\right)} \\cos{\\left(\\theta_{2}{\\left(t \\right)} \\right)} + \\ddot{\\theta}_{1} \\left(1.0 J1zz + 1.0 J2xx \\cos^{2}{\\left(\\theta_{2}{\\left(t \\right)} \\right)} + 1.0 J2yy \\sin^{2}{\\left(\\theta_{2}{\\left(t \\right)} \\right)} + 1.0 L_{1}^{2} m_{2} \\sin^{2}{\\left(\\theta_{2}{\\left(t \\right)} \\right)} + 1.0 L_{1}^{2} m_{2} \\cos^{2}{\\left(\\theta_{2}{\\left(t \\right)} \\right)} + 1.0 l_{1}^{2} m_{1} + 1.0 l_{2}^{2} m_{2} \\sin^{2}{\\left(\\theta_{2}{\\left(t \\right)} \\right)}\\right)\\end{equation*}"
      ],
      "text/plain": [
       "                                                                              \n",
       "-2.0⋅J2xx⋅θ̇₁⋅θ̇₂⋅sin(θ₂(t))⋅cos(θ₂(t)) + 2.0⋅J2yy⋅θ̇₁⋅θ̇₂⋅sin(θ₂(t))⋅cos(θ₂(t\n",
       "\n",
       "                                                   2                          \n",
       ")) + 1.0⋅L₁⋅l₂⋅m₂⋅θ̈₂⋅cos(θ₂(t)) - 1.0⋅L₁⋅l₂⋅m₂⋅θ̇₂ ⋅sin(θ₂(t)) + b₁⋅θ̇₁ + 2.0\n",
       "\n",
       "   2                                        ⎛                       2         \n",
       "⋅l₂ ⋅m₂⋅θ̇₁⋅θ̇₂⋅sin(θ₂(t))⋅cos(θ₂(t)) + θ̈₁⋅⎝1.0⋅J1zz + 1.0⋅J2xx⋅cos (θ₂(t)) +\n",
       "\n",
       "             2                2       2                2       2              \n",
       " 1.0⋅J2yy⋅sin (θ₂(t)) + 1.0⋅L₁ ⋅m₂⋅sin (θ₂(t)) + 1.0⋅L₁ ⋅m₂⋅cos (θ₂(t)) + 1.0⋅\n",
       "\n",
       "  2            2       2       ⎞\n",
       "l₁ ⋅m₁ + 1.0⋅l₂ ⋅m₂⋅sin (θ₂(t))⎠"
      ]
     },
     "execution_count": 8,
     "metadata": {},
     "output_type": "execute_result"
    }
   ],
   "source": [
    "Ep1 = [0]\n",
    "Ek1 = .5*((v1c.T)*m1*v1c + (ω1.T)*J1*ω1)\n",
    "Ep2 = [g*m2*l2*(1-cos(theta2))]\n",
    "Ek2 = .5*((v2c.T)*m2*v2c) + .5*((ω2.T)*J2*ω2)\n",
    "L = Ek1 + Ek2 - Ep1 - Ep2\n",
    "roughτ1 = diff((diff(L[1],diff(theta1,t))),t) + b1*(diff(theta1,t)) - diff(L[1],theta1)\n",
    "cleanτ1 = roughτ1.subs([(diff(diff(theta1,t),t),thetaddot1),(diff(diff(theta2,t),t),thetaddot2),(diff(theta1,t),thetadot1),(diff(theta2,t),thetadot2)])\n",
    "τ1 = collect(expand(cleanτ1),thetaddot1)"
   ]
  },
  {
   "cell_type": "code",
   "execution_count": 9,
   "metadata": {},
   "outputs": [
    {
     "data": {
      "text/latex": [
       "\\begin{equation*}1.0 J2zz \\ddot{\\theta}_{2} + 1.0 L_{1} l_{2} m_{2} \\ddot{\\theta}_{1} \\cos{\\left(\\theta_{2}{\\left(t \\right)} \\right)} + b_{2} \\dot{\\theta}_{2} + g l_{2} m_{2} \\sin{\\left(\\theta_{2}{\\left(t \\right)} \\right)} + 1.0 l_{2}^{2} m_{2} \\ddot{\\theta}_{2} + \\dot{\\theta}_{1}^{2} \\left(1.0 J2xx \\sin{\\left(\\theta_{2}{\\left(t \\right)} \\right)} \\cos{\\left(\\theta_{2}{\\left(t \\right)} \\right)} - 1.0 J2yy \\sin{\\left(\\theta_{2}{\\left(t \\right)} \\right)} \\cos{\\left(\\theta_{2}{\\left(t \\right)} \\right)} - 1.0 l_{2}^{2} m_{2} \\sin{\\left(\\theta_{2}{\\left(t \\right)} \\right)} \\cos{\\left(\\theta_{2}{\\left(t \\right)} \\right)}\\right)\\end{equation*}"
      ],
      "text/plain": [
       "                                                                              \n",
       "1.0⋅J2zz⋅θ̈₂ + 1.0⋅L₁⋅l₂⋅m₂⋅θ̈₁⋅cos(θ₂(t)) + b₂⋅θ̇₂ + g⋅l₂⋅m₂⋅sin(θ₂(t)) + 1.0\n",
       "\n",
       "   2             2 ⎛                                                          \n",
       "⋅l₂ ⋅m₂⋅θ̈₂ + θ̇₁ ⋅⎝1.0⋅J2xx⋅sin(θ₂(t))⋅cos(θ₂(t)) - 1.0⋅J2yy⋅sin(θ₂(t))⋅cos(θ\n",
       "\n",
       "              2                         ⎞\n",
       "₂(t)) - 1.0⋅l₂ ⋅m₂⋅sin(θ₂(t))⋅cos(θ₂(t))⎠"
      ]
     },
     "execution_count": 9,
     "metadata": {},
     "output_type": "execute_result"
    }
   ],
   "source": [
    "roughτ2 = diff((diff(L[1],(diff(theta2,t)))),t) + b2*(diff(theta2,t)) - diff(L[1],theta2)\n",
    "cleanτ2 = roughτ2.subs([(diff(diff(theta1,t),t),thetaddot1),(diff(diff(theta2,t),t),thetaddot2),(diff(theta1,t),thetadot1),(diff(theta2,t),thetadot2)])\n",
    "τ2 = collect(expand(cleanτ2),thetadot1)"
   ]
  },
  {
   "cell_type": "code",
   "execution_count": 10,
   "metadata": {},
   "outputs": [
    {
     "data": {
      "text/latex": [
       "\\[ \\left[ \\begin{array}{r}0.5 J1zz \\left(\\frac{d}{d t} \\theta_{1}{\\left(t \\right)}\\right)^{2} + 0.5 J2xx \\cos^{2}{\\left(\\theta_{2}{\\left(t \\right)} \\right)} \\left(\\frac{d}{d t} \\theta_{1}{\\left(t \\right)}\\right)^{2} + 0.5 J2yy \\sin^{2}{\\left(\\theta_{2}{\\left(t \\right)} \\right)} \\left(\\frac{d}{d t} \\theta_{1}{\\left(t \\right)}\\right)^{2} + 0.5 J2zz \\left(\\frac{d}{d t} \\theta_{2}{\\left(t \\right)}\\right)^{2} + 0.5 L_{1}^{2} m_{2} \\sin^{2}{\\left(\\theta_{2}{\\left(t \\right)} \\right)} \\left(\\frac{d}{d t} \\theta_{1}{\\left(t \\right)}\\right)^{2} + g l_{2} m_{2} \\left(1 - \\cos{\\left(\\theta_{2}{\\left(t \\right)} \\right)}\\right) + 0.5 l_{1}^{2} m_{1} \\left(\\frac{d}{d t} \\theta_{1}{\\left(t \\right)}\\right)^{2} + 0.5 l_{2}^{2} m_{2} \\sin^{2}{\\left(\\theta_{2}{\\left(t \\right)} \\right)} \\left(\\frac{d}{d t} \\theta_{1}{\\left(t \\right)}\\right)^{2} + 0.5 m_{2} \\left(L_{1} \\cos{\\left(\\theta_{2}{\\left(t \\right)} \\right)} \\frac{d}{d t} \\theta_{1}{\\left(t \\right)} + l_{2} \\frac{d}{d t} \\theta_{2}{\\left(t \\right)}\\right)^{2}\\end{array} \\right] \\]"
      ],
      "text/plain": [
       "1-element Array{Sym,1}:\n",
       " 0.5*J1zz*Derivative(theta1(t), t)^2 + 0.5*J2xx*cos(theta2(t))^2*Derivative(theta1(t), t)^2 + 0.5*J2yy*sin(theta2(t))^2*Derivative(theta1(t), t)^2 + 0.5*J2zz*Derivative(theta2(t), t)^2 + 0.5*L1^2*m2*sin(theta2(t))^2*Derivative(theta1(t), t)^2 + g*l2*m2*(1 - cos(theta2(t))) + 0.5*l1^2*m1*Derivative(theta1(t), t)^2 + 0.5*l2^2*m2*sin(theta2(t))^2*Derivative(theta1(t), t)^2 + 0.5*m2*(L1*cos(theta2(t))*Derivative(theta1(t), t) + l2*Derivative(theta2(t), t))^2"
      ]
     },
     "execution_count": 10,
     "metadata": {},
     "output_type": "execute_result"
    }
   ],
   "source": [
    "E = Ek1 + Ek2 + Ep1 + Ep2"
   ]
  },
  {
   "cell_type": "code",
   "execution_count": 26,
   "metadata": {},
   "outputs": [
    {
     "data": {
      "text/latex": [
       "\\begin{equation*}0 = 1.0 J1zz \\frac{d^{2}}{d t^{2}} \\theta_{1}{\\left(t \\right)} - 2.0 J2xx \\sin{\\left(\\theta_{2}{\\left(t \\right)} \\right)} \\cos{\\left(\\theta_{2}{\\left(t \\right)} \\right)} \\frac{d}{d t} \\theta_{1}{\\left(t \\right)} \\frac{d}{d t} \\theta_{2}{\\left(t \\right)} + 1.0 J2xx \\cos^{2}{\\left(\\theta_{2}{\\left(t \\right)} \\right)} \\frac{d^{2}}{d t^{2}} \\theta_{1}{\\left(t \\right)} + 1.0 J2yy \\sin^{2}{\\left(\\theta_{2}{\\left(t \\right)} \\right)} \\frac{d^{2}}{d t^{2}} \\theta_{1}{\\left(t \\right)} + 2.0 J2yy \\sin{\\left(\\theta_{2}{\\left(t \\right)} \\right)} \\cos{\\left(\\theta_{2}{\\left(t \\right)} \\right)} \\frac{d}{d t} \\theta_{1}{\\left(t \\right)} \\frac{d}{d t} \\theta_{2}{\\left(t \\right)} + 1.0 L_{1}^{2} m_{2} \\sin^{2}{\\left(\\theta_{2}{\\left(t \\right)} \\right)} \\frac{d^{2}}{d t^{2}} \\theta_{1}{\\left(t \\right)} + 2.0 L_{1}^{2} m_{2} \\sin{\\left(\\theta_{2}{\\left(t \\right)} \\right)} \\cos{\\left(\\theta_{2}{\\left(t \\right)} \\right)} \\frac{d}{d t} \\theta_{1}{\\left(t \\right)} \\frac{d}{d t} \\theta_{2}{\\left(t \\right)} - 1.0 L_{1} m_{2} \\left(L_{1} \\cos{\\left(\\theta_{2}{\\left(t \\right)} \\right)} \\frac{d}{d t} \\theta_{1}{\\left(t \\right)} + l_{2} \\frac{d}{d t} \\theta_{2}{\\left(t \\right)}\\right) \\sin{\\left(\\theta_{2}{\\left(t \\right)} \\right)} \\frac{d}{d t} \\theta_{2}{\\left(t \\right)} + 1.0 L_{1} m_{2} \\left(- L_{1} \\sin{\\left(\\theta_{2}{\\left(t \\right)} \\right)} \\frac{d}{d t} \\theta_{1}{\\left(t \\right)} \\frac{d}{d t} \\theta_{2}{\\left(t \\right)} + L_{1} \\cos{\\left(\\theta_{2}{\\left(t \\right)} \\right)} \\frac{d^{2}}{d t^{2}} \\theta_{1}{\\left(t \\right)} + l_{2} \\frac{d^{2}}{d t^{2}} \\theta_{2}{\\left(t \\right)}\\right) \\cos{\\left(\\theta_{2}{\\left(t \\right)} \\right)} + b_{1} \\frac{d}{d t} \\theta_{1}{\\left(t \\right)} + 1.0 l_{1}^{2} m_{1} \\frac{d^{2}}{d t^{2}} \\theta_{1}{\\left(t \\right)} + 1.0 l_{2}^{2} m_{2} \\sin^{2}{\\left(\\theta_{2}{\\left(t \\right)} \\right)} \\frac{d^{2}}{d t^{2}} \\theta_{1}{\\left(t \\right)} + 2.0 l_{2}^{2} m_{2} \\sin{\\left(\\theta_{2}{\\left(t \\right)} \\right)} \\cos{\\left(\\theta_{2}{\\left(t \\right)} \\right)} \\frac{d}{d t} \\theta_{1}{\\left(t \\right)} \\frac{d}{d t} \\theta_{2}{\\left(t \\right)} - \\tau_{1}\\end{equation*}"
      ],
      "text/plain": [
       "               2                                                              \n",
       "              d                                          d         d          \n",
       "0 = 1.0⋅J1zz⋅───(θ₁(t)) - 2.0⋅J2xx⋅sin(θ₂(t))⋅cos(θ₂(t))⋅──(θ₁(t))⋅──(θ₂(t)) +\n",
       "               2                                         dt        dt         \n",
       "             dt                                                               \n",
       "\n",
       "                        2                                 2                   \n",
       "             2         d                       2         d                    \n",
       " 1.0⋅J2xx⋅cos (θ₂(t))⋅───(θ₁(t)) + 1.0⋅J2yy⋅sin (θ₂(t))⋅───(θ₁(t)) + 2.0⋅J2yy⋅\n",
       "                        2                                 2                   \n",
       "                      dt                                dt                    \n",
       "\n",
       "                                                                     2        \n",
       "                      d         d                 2       2         d         \n",
       "sin(θ₂(t))⋅cos(θ₂(t))⋅──(θ₁(t))⋅──(θ₂(t)) + 1.0⋅L₁ ⋅m₂⋅sin (θ₂(t))⋅───(θ₁(t)) \n",
       "                      dt        dt                                   2        \n",
       "                                                                   dt         \n",
       "\n",
       "                                                                              \n",
       "        2                          d         d                     ⎛          \n",
       "+ 2.0⋅L₁ ⋅m₂⋅sin(θ₂(t))⋅cos(θ₂(t))⋅──(θ₁(t))⋅──(θ₂(t)) - 1.0⋅L₁⋅m₂⋅⎜L₁⋅cos(θ₂(\n",
       "                                   dt        dt                    ⎝          \n",
       "                                                                              \n",
       "\n",
       "                                                               ⎛              \n",
       "    d              d        ⎞            d                     ⎜              \n",
       "t))⋅──(θ₁(t)) + l₂⋅──(θ₂(t))⎟⋅sin(θ₂(t))⋅──(θ₂(t)) + 1.0⋅L₁⋅m₂⋅⎜- L₁⋅sin(θ₂(t)\n",
       "    dt             dt       ⎠            dt                    ⎜              \n",
       "                                                               ⎝              \n",
       "\n",
       "                                        2               2       ⎞             \n",
       "  d         d                          d               d        ⎟             \n",
       ")⋅──(θ₁(t))⋅──(θ₂(t)) + L₁⋅cos(θ₂(t))⋅───(θ₁(t)) + l₂⋅───(θ₂(t))⎟⋅cos(θ₂(t)) +\n",
       "  dt        dt                          2               2       ⎟             \n",
       "                                      dt              dt        ⎠             \n",
       "\n",
       "                             2                                   2            \n",
       "    d                 2     d                 2       2         d             \n",
       " b₁⋅──(θ₁(t)) + 1.0⋅l₁ ⋅m₁⋅───(θ₁(t)) + 1.0⋅l₂ ⋅m₂⋅sin (θ₂(t))⋅───(θ₁(t)) + 2.\n",
       "    dt                       2                                   2            \n",
       "                           dt                                  dt             \n",
       "\n",
       "                                                       \n",
       "    2                          d         d             \n",
       "0⋅l₂ ⋅m₂⋅sin(θ₂(t))⋅cos(θ₂(t))⋅──(θ₁(t))⋅──(θ₂(t)) - τ₁\n",
       "                               dt        dt            \n",
       "                                                       "
      ]
     },
     "execution_count": 26,
     "metadata": {},
     "output_type": "execute_result"
    }
   ],
   "source": [
    "@vars tau1 tau2 z1 z2 z3 z4\n",
    "eq1 = Eq(0,roughτ1 - tau1)"
   ]
  },
  {
   "cell_type": "code",
   "execution_count": 27,
   "metadata": {},
   "outputs": [
    {
     "data": {
      "text/latex": [
       "\\begin{equation*}0 = 1.0 J2xx \\sin{\\left(\\theta_{2}{\\left(t \\right)} \\right)} \\cos{\\left(\\theta_{2}{\\left(t \\right)} \\right)} \\left(\\frac{d}{d t} \\theta_{1}{\\left(t \\right)}\\right)^{2} - 1.0 J2yy \\sin{\\left(\\theta_{2}{\\left(t \\right)} \\right)} \\cos{\\left(\\theta_{2}{\\left(t \\right)} \\right)} \\left(\\frac{d}{d t} \\theta_{1}{\\left(t \\right)}\\right)^{2} + 1.0 J2zz \\frac{d^{2}}{d t^{2}} \\theta_{2}{\\left(t \\right)} - 1.0 L_{1}^{2} m_{2} \\sin{\\left(\\theta_{2}{\\left(t \\right)} \\right)} \\cos{\\left(\\theta_{2}{\\left(t \\right)} \\right)} \\left(\\frac{d}{d t} \\theta_{1}{\\left(t \\right)}\\right)^{2} + 1.0 L_{1} m_{2} \\left(L_{1} \\cos{\\left(\\theta_{2}{\\left(t \\right)} \\right)} \\frac{d}{d t} \\theta_{1}{\\left(t \\right)} + l_{2} \\frac{d}{d t} \\theta_{2}{\\left(t \\right)}\\right) \\sin{\\left(\\theta_{2}{\\left(t \\right)} \\right)} \\frac{d}{d t} \\theta_{1}{\\left(t \\right)} + b_{2} \\frac{d}{d t} \\theta_{2}{\\left(t \\right)} + g l_{2} m_{2} \\sin{\\left(\\theta_{2}{\\left(t \\right)} \\right)} - 1.0 l_{2}^{2} m_{2} \\sin{\\left(\\theta_{2}{\\left(t \\right)} \\right)} \\cos{\\left(\\theta_{2}{\\left(t \\right)} \\right)} \\left(\\frac{d}{d t} \\theta_{1}{\\left(t \\right)}\\right)^{2} + 1.0 l_{2} m_{2} \\left(- L_{1} \\sin{\\left(\\theta_{2}{\\left(t \\right)} \\right)} \\frac{d}{d t} \\theta_{1}{\\left(t \\right)} \\frac{d}{d t} \\theta_{2}{\\left(t \\right)} + L_{1} \\cos{\\left(\\theta_{2}{\\left(t \\right)} \\right)} \\frac{d^{2}}{d t^{2}} \\theta_{1}{\\left(t \\right)} + l_{2} \\frac{d^{2}}{d t^{2}} \\theta_{2}{\\left(t \\right)}\\right) - \\tau_{2}\\end{equation*}"
      ],
      "text/plain": [
       "                                              2                               \n",
       "                                   ⎛d        ⎞                                \n",
       "0 = 1.0⋅J2xx⋅sin(θ₂(t))⋅cos(θ₂(t))⋅⎜──(θ₁(t))⎟  - 1.0⋅J2yy⋅sin(θ₂(t))⋅cos(θ₂(t\n",
       "                                   ⎝dt       ⎠                                \n",
       "                                                                              \n",
       "\n",
       "              2              2                                                \n",
       "   ⎛d        ⎞              d                 2                          ⎛d   \n",
       "))⋅⎜──(θ₁(t))⎟  + 1.0⋅J2zz⋅───(θ₂(t)) - 1.0⋅L₁ ⋅m₂⋅sin(θ₂(t))⋅cos(θ₂(t))⋅⎜──(θ\n",
       "   ⎝dt       ⎠               2                                           ⎝dt  \n",
       "                           dt                                                 \n",
       "\n",
       "      2                                                                       \n",
       "     ⎞              ⎛              d              d        ⎞            d     \n",
       "₁(t))⎟  + 1.0⋅L₁⋅m₂⋅⎜L₁⋅cos(θ₂(t))⋅──(θ₁(t)) + l₂⋅──(θ₂(t))⎟⋅sin(θ₂(t))⋅──(θ₁(\n",
       "     ⎠              ⎝              dt             dt       ⎠            dt    \n",
       "                                                                              \n",
       "\n",
       "                                                                              \n",
       "         d                                      2                          ⎛d \n",
       "t)) + b₂⋅──(θ₂(t)) + g⋅l₂⋅m₂⋅sin(θ₂(t)) - 1.0⋅l₂ ⋅m₂⋅sin(θ₂(t))⋅cos(θ₂(t))⋅⎜──\n",
       "         dt                                                                ⎝dt\n",
       "                                                                              \n",
       "\n",
       "        2             ⎛                                                      2\n",
       "       ⎞              ⎜                d         d                          d \n",
       "(θ₁(t))⎟  + 1.0⋅l₂⋅m₂⋅⎜- L₁⋅sin(θ₂(t))⋅──(θ₁(t))⋅──(θ₂(t)) + L₁⋅cos(θ₂(t))⋅───\n",
       "       ⎠              ⎜                dt        dt                          2\n",
       "                      ⎝                                                    dt \n",
       "\n",
       "               2       ⎞     \n",
       "              d        ⎟     \n",
       "(θ₁(t)) + l₂⋅───(θ₂(t))⎟ - τ₂\n",
       "               2       ⎟     \n",
       "             dt        ⎠     "
      ]
     },
     "execution_count": 27,
     "metadata": {},
     "output_type": "execute_result"
    }
   ],
   "source": [
    "eq2 = Eq(0,roughτ2 - tau2)"
   ]
  },
  {
   "cell_type": "code",
   "execution_count": 42,
   "metadata": {},
   "outputs": [
    {
     "data": {
      "text/plain": [
       "Dict{Any,Any} with 2 entries:\n",
       "  Derivative(theta2(t), (t, 2)) => (L1*l2*m2*(J2xx*sin(2.0*theta2(t))*Derivativ…\n",
       "  Derivative(theta1(t), (t, 2)) => -(L1*l2*m2*(0.5*J2xx*sin(2.0*theta2(t))*Deri…"
      ]
     },
     "execution_count": 42,
     "metadata": {},
     "output_type": "execute_result"
    }
   ],
   "source": [
    "variablechange = Dict(theta1=>z1,theta2=>z2,diff(theta1,t)=>z3,diff(theta2,t)=>z4)\n",
    "EOM = solve([eq1, eq2],[diff(diff(theta1,t),t), diff(diff(theta2,t),t)])"
   ]
  },
  {
   "cell_type": "code",
   "execution_count": 43,
   "metadata": {},
   "outputs": [
    {
     "ename": "ErrorException",
     "evalue": "type #subs has no field variablechange",
     "output_type": "error",
     "traceback": [
      "type #subs has no field variablechange",
      "",
      "Stacktrace:",
      " [1] getproperty(::Function, ::Symbol) at ./Base.jl:20",
      " [2] top-level scope at In[43]:1"
     ]
    }
   ],
   "source": [
    "EOM1 = EOM[diff(diff(theta1,t),t)]"
   ]
  },
  {
   "cell_type": "code",
   "execution_count": 40,
   "metadata": {},
   "outputs": [
    {
     "data": {
      "text/latex": [
       "\\begin{equation*}\\frac{L_{1} l_{2} m_{2} \\left(J2xx \\sin{\\left(2.0 \\theta_{2}{\\left(t \\right)} \\right)} \\frac{d}{d t} \\theta_{1}{\\left(t \\right)} \\frac{d}{d t} \\theta_{2}{\\left(t \\right)} - J2yy \\sin{\\left(2.0 \\theta_{2}{\\left(t \\right)} \\right)} \\frac{d}{d t} \\theta_{1}{\\left(t \\right)} \\frac{d}{d t} \\theta_{2}{\\left(t \\right)} + L_{1} l_{2} m_{2} \\sin{\\left(\\theta_{2}{\\left(t \\right)} \\right)} \\left(\\frac{d}{d t} \\theta_{2}{\\left(t \\right)}\\right)^{2} - b_{1} \\frac{d}{d t} \\theta_{1}{\\left(t \\right)} - l_{2}^{2} m_{2} \\sin{\\left(2.0 \\theta_{2}{\\left(t \\right)} \\right)} \\frac{d}{d t} \\theta_{1}{\\left(t \\right)} \\frac{d}{d t} \\theta_{2}{\\left(t \\right)} + \\tau_{1}\\right) \\cos{\\left(\\theta_{2}{\\left(t \\right)} \\right)} + \\left(0.5 J2xx \\sin{\\left(2.0 \\theta_{2}{\\left(t \\right)} \\right)} \\left(\\frac{d}{d t} \\theta_{1}{\\left(t \\right)}\\right)^{2} - 0.5 J2yy \\sin{\\left(2.0 \\theta_{2}{\\left(t \\right)} \\right)} \\left(\\frac{d}{d t} \\theta_{1}{\\left(t \\right)}\\right)^{2} + b_{2} \\frac{d}{d t} \\theta_{2}{\\left(t \\right)} + g l_{2} m_{2} \\sin{\\left(\\theta_{2}{\\left(t \\right)} \\right)} - 0.5 l_{2}^{2} m_{2} \\sin{\\left(2.0 \\theta_{2}{\\left(t \\right)} \\right)} \\left(\\frac{d}{d t} \\theta_{1}{\\left(t \\right)}\\right)^{2} - \\tau_{2}\\right) \\left(J1zz - J2xx \\sin^{2}{\\left(\\theta_{2}{\\left(t \\right)} \\right)} + J2xx + J2yy \\sin^{2}{\\left(\\theta_{2}{\\left(t \\right)} \\right)} + L_{1}^{2} m_{2} + l_{1}^{2} m_{1} + l_{2}^{2} m_{2} \\sin^{2}{\\left(\\theta_{2}{\\left(t \\right)} \\right)}\\right)}{L_{1}^{2} l_{2}^{2} m_{2}^{2} \\cos^{2}{\\left(\\theta_{2}{\\left(t \\right)} \\right)} + \\left(- J2zz - l_{2}^{2} m_{2}\\right) \\left(J1zz - J2xx \\sin^{2}{\\left(\\theta_{2}{\\left(t \\right)} \\right)} + J2xx + J2yy \\sin^{2}{\\left(\\theta_{2}{\\left(t \\right)} \\right)} + L_{1}^{2} m_{2} + l_{1}^{2} m_{1} + l_{2}^{2} m_{2} \\sin^{2}{\\left(\\theta_{2}{\\left(t \\right)} \\right)}\\right)}\\end{equation*}"
      ],
      "text/plain": [
       "         ⎛                                                                    \n",
       "         ⎜                    d         d                               d     \n",
       "L₁⋅l₂⋅m₂⋅⎜J2xx⋅sin(2.0⋅θ₂(t))⋅──(θ₁(t))⋅──(θ₂(t)) - J2yy⋅sin(2.0⋅θ₂(t))⋅──(θ₁(\n",
       "         ⎝                    dt        dt                              dt    \n",
       "──────────────────────────────────────────────────────────────────────────────\n",
       "                                                                              \n",
       "                                                                              \n",
       "\n",
       "                                               2                              \n",
       "    d                               ⎛d        ⎞       d             2         \n",
       "t))⋅──(θ₂(t)) + L₁⋅l₂⋅m₂⋅sin(θ₂(t))⋅⎜──(θ₂(t))⎟  - b₁⋅──(θ₁(t)) - l₂ ⋅m₂⋅sin(2\n",
       "    dt                              ⎝dt       ⎠       dt                      \n",
       "──────────────────────────────────────────────────────────────────────────────\n",
       "                                                                              \n",
       "                                                                              \n",
       "\n",
       "                                  ⎞              ⎛                            \n",
       "          d         d             ⎟              ⎜                        ⎛d  \n",
       ".0⋅θ₂(t))⋅──(θ₁(t))⋅──(θ₂(t)) + τ₁⎟⋅cos(θ₂(t)) + ⎜0.5⋅J2xx⋅sin(2.0⋅θ₂(t))⋅⎜──(\n",
       "          dt        dt            ⎠              ⎝                        ⎝dt \n",
       "──────────────────────────────────────────────────────────────────────────────\n",
       "       2   2   2    2          ⎛          2   ⎞ ⎛               2             \n",
       "     L₁ ⋅l₂ ⋅m₂ ⋅cos (θ₂(t)) + ⎝-J2zz - l₂ ⋅m₂⎠⋅⎝J1zz - J2xx⋅sin (θ₂(t)) + J2x\n",
       "\n",
       "       2                                      2                               \n",
       "      ⎞                            ⎛d        ⎞       d                        \n",
       "θ₁(t))⎟  - 0.5⋅J2yy⋅sin(2.0⋅θ₂(t))⋅⎜──(θ₁(t))⎟  + b₂⋅──(θ₂(t)) + g⋅l₂⋅m₂⋅sin(θ\n",
       "      ⎠                            ⎝dt       ⎠       dt                       \n",
       "──────────────────────────────────────────────────────────────────────────────\n",
       "            2            2        2        2       2       ⎞                  \n",
       "x + J2yy⋅sin (θ₂(t)) + L₁ ⋅m₂ + l₁ ⋅m₁ + l₂ ⋅m₂⋅sin (θ₂(t))⎠                  \n",
       "\n",
       "                                             2     ⎞                          \n",
       "              2                   ⎛d        ⎞      ⎟ ⎛               2        \n",
       "₂(t)) - 0.5⋅l₂ ⋅m₂⋅sin(2.0⋅θ₂(t))⋅⎜──(θ₁(t))⎟  - τ₂⎟⋅⎝J1zz - J2xx⋅sin (θ₂(t)) \n",
       "                                  ⎝dt       ⎠      ⎠                          \n",
       "──────────────────────────────────────────────────────────────────────────────\n",
       "                                                                              \n",
       "                                                                              \n",
       "\n",
       "                                                                 \n",
       "                 2            2        2        2       2       ⎞\n",
       "+ J2xx + J2yy⋅sin (θ₂(t)) + L₁ ⋅m₂ + l₁ ⋅m₁ + l₂ ⋅m₂⋅sin (θ₂(t))⎠\n",
       "                                                                 \n",
       "─────────────────────────────────────────────────────────────────\n",
       "                                                                 \n",
       "                                                                 "
      ]
     },
     "execution_count": 40,
     "metadata": {},
     "output_type": "execute_result"
    }
   ],
   "source": [
    "EOM2 = EOM[diff(diff(theta2,t),t)]"
   ]
  },
  {
   "cell_type": "code",
   "execution_count": 55,
   "metadata": {},
   "outputs": [
    {
     "data": {
      "text/latex": [
       "\\begin{equation*}\\frac{L_{1} l_{2} m_{2} \\left(J2xx z_{3} z_{4} \\sin{\\left(2.0 z_{2} \\right)} - J2yy z_{3} z_{4} \\sin{\\left(2.0 z_{2} \\right)} + L_{1} l_{2} m_{2} z_{4}^{2} \\sin{\\left(z_{2} \\right)} - b_{1} z_{3} - l_{2}^{2} m_{2} z_{3} z_{4} \\sin{\\left(2.0 z_{2} \\right)} + \\tau_{1}\\right) \\cos{\\left(z_{2} \\right)} + \\left(0.5 J2xx z_{3}^{2} \\sin{\\left(2.0 z_{2} \\right)} - 0.5 J2yy z_{3}^{2} \\sin{\\left(2.0 z_{2} \\right)} + b_{2} z_{4} + g l_{2} m_{2} \\sin{\\left(z_{2} \\right)} - 0.5 l_{2}^{2} m_{2} z_{3}^{2} \\sin{\\left(2.0 z_{2} \\right)} - \\tau_{2}\\right) \\left(J1zz - J2xx \\sin^{2}{\\left(z_{2} \\right)} + J2xx + J2yy \\sin^{2}{\\left(z_{2} \\right)} + L_{1}^{2} m_{2} + l_{1}^{2} m_{1} + l_{2}^{2} m_{2} \\sin^{2}{\\left(z_{2} \\right)}\\right)}{L_{1}^{2} l_{2}^{2} m_{2}^{2} \\cos^{2}{\\left(z_{2} \\right)} + \\left(- J2zz - l_{2}^{2} m_{2}\\right) \\left(J1zz - J2xx \\sin^{2}{\\left(z_{2} \\right)} + J2xx + J2yy \\sin^{2}{\\left(z_{2} \\right)} + L_{1}^{2} m_{2} + l_{1}^{2} m_{1} + l_{2}^{2} m_{2} \\sin^{2}{\\left(z_{2} \\right)}\\right)}\\end{equation*}"
      ],
      "text/plain": [
       "         ⎛                                                             2      \n",
       "L₁⋅l₂⋅m₂⋅⎝J2xx⋅z₃⋅z₄⋅sin(2.0⋅z₂) - J2yy⋅z₃⋅z₄⋅sin(2.0⋅z₂) + L₁⋅l₂⋅m₂⋅z₄ ⋅sin(z\n",
       "──────────────────────────────────────────────────────────────────────────────\n",
       "                                                                              \n",
       "                                                                              \n",
       "\n",
       "               2                          ⎞           ⎛           2           \n",
       "₂) - b₁⋅z₃ - l₂ ⋅m₂⋅z₃⋅z₄⋅sin(2.0⋅z₂) + τ₁⎠⋅cos(z₂) + ⎝0.5⋅J2xx⋅z₃ ⋅sin(2.0⋅z₂\n",
       "──────────────────────────────────────────────────────────────────────────────\n",
       "                           2   2   2    2       ⎛          2   ⎞ ⎛            \n",
       "                         L₁ ⋅l₂ ⋅m₂ ⋅cos (z₂) + ⎝-J2zz - l₂ ⋅m₂⎠⋅⎝J1zz - J2xx⋅\n",
       "\n",
       "               2                                               2      2       \n",
       ") - 0.5⋅J2yy⋅z₃ ⋅sin(2.0⋅z₂) + b₂⋅z₄ + g⋅l₂⋅m₂⋅sin(z₂) - 0.5⋅l₂ ⋅m₂⋅z₃ ⋅sin(2.\n",
       "──────────────────────────────────────────────────────────────────────────────\n",
       "   2                      2         2        2        2       2    ⎞          \n",
       "sin (z₂) + J2xx + J2yy⋅sin (z₂) + L₁ ⋅m₂ + l₁ ⋅m₁ + l₂ ⋅m₂⋅sin (z₂)⎠          \n",
       "\n",
       "          ⎞ ⎛               2                      2         2        2       \n",
       "0⋅z₂) - τ₂⎠⋅⎝J1zz - J2xx⋅sin (z₂) + J2xx + J2yy⋅sin (z₂) + L₁ ⋅m₂ + l₁ ⋅m₁ + l\n",
       "──────────────────────────────────────────────────────────────────────────────\n",
       "                                                                              \n",
       "                                                                              \n",
       "\n",
       " 2       2    ⎞\n",
       "₂ ⋅m₂⋅sin (z₂)⎠\n",
       "───────────────\n",
       "               \n",
       "               "
      ]
     },
     "execution_count": 55,
     "metadata": {},
     "output_type": "execute_result"
    }
   ],
   "source": [
    "EOM1 = EOM1.subs(variablechange)"
   ]
  },
  {
   "cell_type": "code",
   "execution_count": 53,
   "metadata": {},
   "outputs": [
    {
     "name": "stdout",
     "output_type": "stream",
     "text": [
      "-(L1.*l2.*m2.*(0.5*J2xx.*z3.^2.*sin(2.0*z2) - 0.5*J2yy.*z3.^2.*sin(2.0*z2) + b2.*z4 + g.*l2.*m2.*sin(z2) - 0.5*l2.^2.*m2.*z3.^2.*sin(2.0*z2) - tau2).*cos(z2) + (J2zz + l2.^2.*m2).*(J2xx.*z3.*z4.*sin(2.0*z2) - J2yy.*z3.*z4.*sin(2.0*z2) + L1.*l2.*m2.*z4.^2.*sin(z2) - b1.*z3 - l2.^2.*m2.*z3.*z4.*sin(2.0*z2) + tau1))./(L1.^2.*l2.^2.*m2.^2.*cos(z2).^2 - (J2zz + l2.^2.*m2).*(J1zz - J2xx.*sin(z2).^2 + J2xx + J2yy.*sin(z2).^2 + L1.^2.*m2 + l1.^2.*m1 + l2.^2.*m2.*sin(z2).^2))\n"
     ]
    }
   ],
   "source": [
    "sympy.julia_code(EOM1) |> println"
   ]
  },
  {
   "cell_type": "code",
   "execution_count": 57,
   "metadata": {},
   "outputs": [
    {
     "name": "stdout",
     "output_type": "stream",
     "text": [
      "(L1.*l2.*m2.*(J2xx.*z3.*z4.*sin(2.0*z2) - J2yy.*z3.*z4.*sin(2.0*z2) + L1.*l2.*m2.*z4.^2.*sin(z2) - b1.*z3 - l2.^2.*m2.*z3.*z4.*sin(2.0*z2) + tau1).*cos(z2) + (0.5*J2xx.*z3.^2.*sin(2.0*z2) - 0.5*J2yy.*z3.^2.*sin(2.0*z2) + b2.*z4 + g.*l2.*m2.*sin(z2) - 0.5*l2.^2.*m2.*z3.^2.*sin(2.0*z2) - tau2).*(J1zz - J2xx.*sin(z2).^2 + J2xx + J2yy.*sin(z2).^2 + L1.^2.*m2 + l1.^2.*m1 + l2.^2.*m2.*sin(z2).^2))./(L1.^2.*l2.^2.*m2.^2.*cos(z2).^2 + (-J2zz - l2.^2.*m2).*(J1zz - J2xx.*sin(z2).^2 + J2xx + J2yy.*sin(z2).^2 + L1.^2.*m2 + l1.^2.*m1 + l2.^2.*m2.*sin(z2).^2))\n"
     ]
    }
   ],
   "source": [
    "EOM2 = EOM2.subs(variablechange)\n",
    "sympy.julia_code(EOM2) |> println"
   ]
  },
  {
   "cell_type": "code",
   "execution_count": null,
   "metadata": {},
   "outputs": [],
   "source": []
  }
 ],
 "metadata": {
  "kernelspec": {
   "display_name": "Julia 1.3.0",
   "language": "julia",
   "name": "julia-1.3"
  },
  "language_info": {
   "file_extension": ".jl",
   "mimetype": "application/julia",
   "name": "julia",
   "version": "1.3.0"
  }
 },
 "nbformat": 4,
 "nbformat_minor": 2
}
