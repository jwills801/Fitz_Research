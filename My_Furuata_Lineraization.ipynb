{
 "cells": [
  {
   "cell_type": "code",
   "execution_count": 15,
   "metadata": {},
   "outputs": [],
   "source": [
    "using SymPy\n",
    "using LinearAlgebra\n",
    "@vars Jhat_0 Jhat_2 l1 L1 l2 m1 m2 g b1 b2 t thetadot1 thetadot2 thetaddot1 thetaddot2 tau1 tau2 z_1 z_2 z_3 z_4 u_1 u_2\n",
    "theta1 = SymFunction(\"theta1\")(t)\n",
    "theta2 = SymFunction(\"theta2\")(t);"
   ]
  },
  {
   "cell_type": "code",
   "execution_count": 16,
   "metadata": {},
   "outputs": [
    {
     "data": {
      "text/latex": [
       "\\begin{equation*}\\hat{J}_{2} \\dot{\\theta}_{1} \\dot{\\theta}_{2} \\sin{\\left(2 \\theta_{2}{\\left(t \\right)} \\right)} + L_{1} l_{2} m_{2} \\ddot{\\theta}_{2} \\cos{\\left(\\theta_{2}{\\left(t \\right)} \\right)} - L_{1} l_{2} m_{2} \\dot{\\theta}_{2}^{2} \\sin{\\left(\\theta_{2}{\\left(t \\right)} \\right)} + b_{1} \\dot{\\theta}_{1} + \\ddot{\\theta}_{1} \\left(\\hat{J}_{0} + \\hat{J}_{2} \\sin^{2}{\\left(\\theta_{2}{\\left(t \\right)} \\right)}\\right)\\end{equation*}"
      ],
      "text/plain": [
       "                                                                 2            \n",
       "Ĵ₂⋅θ̇₁⋅θ̇₂⋅sin(2⋅θ₂(t)) + L₁⋅l₂⋅m₂⋅θ̈₂⋅cos(θ₂(t)) - L₁⋅l₂⋅m₂⋅θ̇₂ ⋅sin(θ₂(t)) \n",
       "\n",
       "               ⎛             2       ⎞\n",
       "+ b₁⋅θ̇₁ + θ̈₁⋅⎝Ĵ₀ + Ĵ₂⋅sin (θ₂(t))⎠"
      ]
     },
     "execution_count": 16,
     "metadata": {},
     "output_type": "execute_result"
    }
   ],
   "source": [
    "torque1 = diff(diff(theta1,t),t)*(Jhat_0+Jhat_2*(sin(theta2))^2)+diff(diff(theta2,t),t)*m2*L1*l2*cos(theta2)-(diff(theta2,t))^2*m2*L1*l2*sin(theta2)+Jhat_2*diff(theta1,t)*diff(theta2,t)*sin(2*theta2)+b1*diff(theta1,t)\n",
    "cleantorque1 = torque1.subs([(diff(diff(theta1,t)),thetaddot1),(diff(diff(theta2,t)),thetaddot2),(diff(theta1,t),thetadot1),(diff(theta2,t),thetadot2)])"
   ]
  },
  {
   "cell_type": "code",
   "execution_count": 17,
   "metadata": {},
   "outputs": [
    {
     "data": {
      "text/latex": [
       "\\begin{equation*}\\hat{J}_{2} \\ddot{\\theta}_{2} - 0.5 \\hat{J}_{2} \\dot{\\theta}_{2}^{2} \\sin{\\left(2 \\theta_{2}{\\left(t \\right)} \\right)} + L_{1} l_{2} m_{2} \\ddot{\\theta}_{1} \\cos{\\left(\\theta_{2}{\\left(t \\right)} \\right)} + b_{2} \\dot{\\theta}_{2} + g l_{2} m_{2} \\sin{\\left(\\theta_{2}{\\left(t \\right)} \\right)}\\end{equation*}"
      ],
      "text/plain": [
       "                     2                                                        \n",
       "Ĵ₂⋅θ̈₂ - 0.5⋅Ĵ₂⋅θ̇₂ ⋅sin(2⋅θ₂(t)) + L₁⋅l₂⋅m₂⋅θ̈₁⋅cos(θ₂(t)) + b₂⋅θ̇₂ + g⋅l₂⋅\n",
       "\n",
       "             \n",
       "m₂⋅sin(θ₂(t))"
      ]
     },
     "execution_count": 17,
     "metadata": {},
     "output_type": "execute_result"
    }
   ],
   "source": [
    "torque2 = diff(diff(theta1,t),t)*m2*L1*l2*cos(theta2)+Jhat_2*diff(diff(theta2,t),t)-.5*(diff(theta2,t))^2*Jhat_2*sin(2*theta2)+b2*(diff(theta2,t))+g*m2*l2*sin(theta2)\n",
    "cleantorque2 = torque2.subs([(diff(diff(theta1,t)),thetaddot1),(diff(diff(theta2,t)),thetaddot2),(diff(theta1,t),thetadot1),(diff(theta2,t),thetadot2)])"
   ]
  },
  {
   "cell_type": "markdown",
   "metadata": {},
   "source": [
    "Ok, I solved for the torques, but to use the solve function, I need an expression that is equal to zero"
   ]
  },
  {
   "cell_type": "code",
   "execution_count": 18,
   "metadata": {},
   "outputs": [
    {
     "data": {
      "text/plain": [
       "Dict{Any,Any} with 2 entries:\n",
       "  Derivative(theta1(t), (t, 2)) => (-Jhat_2*(Jhat_2*sin(2.0*theta2(t))*Derivati…\n",
       "  Derivative(theta2(t), (t, 2)) => (L1*l2*m2*(Jhat_2*sin(2.0*theta2(t))*Derivat…"
      ]
     },
     "execution_count": 18,
     "metadata": {},
     "output_type": "execute_result"
    }
   ],
   "source": [
    "zero1 = -tau1 - torque1\n",
    "zero2 = -tau2 - torque2\n",
    "sol = solve( [zero1 , zero2] , [diff(theta1,t,t) , diff(theta2,t,t)])"
   ]
  },
  {
   "cell_type": "markdown",
   "metadata": {},
   "source": [
    "# That just solved for thetaddot1 and thetaddot2, but I'm not sure that the expression for thetaddot1 doesnt have thetaddot2 in it and vice versa"
   ]
  },
  {
   "cell_type": "code",
   "execution_count": 19,
   "metadata": {},
   "outputs": [
    {
     "data": {
      "text/latex": [
       "\\begin{equation*}\\begin{cases}\\theta_{2}{\\left(t \\right)} & \\text{=>} &z_{2}\\\\\\tau_{1} & \\text{=>} &u_{1}\\\\\\tau_{2} & \\text{=>} &u_{2}\\\\\\theta_{1}{\\left(t \\right)} & \\text{=>} &z_{1}\\\\\\frac{d}{d t} \\theta_{1}{\\left(t \\right)} & \\text{=>} &z_{3}\\\\\\frac{d}{d t} \\theta_{2}{\\left(t \\right)} & \\text{=>} &z_{4}\\\\\\end{cases}\\end{equation*}"
      ],
      "text/plain": [
       "Dict{Sym,Sym} with 6 entries:\n",
       "  theta2(t)                => z_2\n",
       "  tau1                     => u_1\n",
       "  tau2                     => u_2\n",
       "  theta1(t)                => z_1\n",
       "  Derivative(theta1(t), t) => z_3\n",
       "  Derivative(theta2(t), t) => z_4"
      ]
     },
     "execution_count": 19,
     "metadata": {},
     "output_type": "execute_result"
    }
   ],
   "source": [
    "rule = Dict(  theta1=>z_1, theta2=>z_2, tau1=>u_1, tau2=>u_2 , diff(theta1,t)=>z_3, diff(theta2,t)=>z_4 )"
   ]
  },
  {
   "cell_type": "code",
   "execution_count": 20,
   "metadata": {},
   "outputs": [
    {
     "data": {
      "text/latex": [
       "\\[ \\left[ \\begin{array}{r}\\frac{d}{d t} \\theta_{1}{\\left(t \\right)}\\\\\\frac{d}{d t} \\theta_{2}{\\left(t \\right)}\\\\\\frac{d^{2}}{d t^{2}} \\theta_{1}{\\left(t \\right)}\\\\\\frac{d^{2}}{d t^{2}} \\theta_{2}{\\left(t \\right)}\\end{array} \\right] \\]"
      ],
      "text/plain": [
       "4-element Array{Sym,1}:\n",
       "      Derivative(theta1(t), t)\n",
       "      Derivative(theta2(t), t)\n",
       " Derivative(theta1(t), (t, 2))\n",
       " Derivative(theta2(t), (t, 2))"
      ]
     },
     "execution_count": 20,
     "metadata": {},
     "output_type": "execute_result"
    }
   ],
   "source": [
    "zdot = [diff(theta1,t),diff(theta2,t), diff(theta1,t,t), diff(theta2,t,t)]"
   ]
  },
  {
   "cell_type": "code",
   "execution_count": 21,
   "metadata": {},
   "outputs": [
    {
     "data": {
      "text/latex": [
       "\\[\\left[ \\begin{array}{r}\\frac{d}{d t} \\theta_{1}{\\left(t \\right)}\\\\\\frac{d}{d t} \\theta_{2}{\\left(t \\right)}\\\\\\frac{- \\hat{J}_{2} \\left(\\hat{J}_{2} \\sin{\\left(2.0 \\theta_{2}{\\left(t \\right)} \\right)} \\frac{d}{d t} \\theta_{1}{\\left(t \\right)} \\frac{d}{d t} \\theta_{2}{\\left(t \\right)} - L_{1} l_{2} m_{2} \\sin{\\left(\\theta_{2}{\\left(t \\right)} \\right)} \\left(\\frac{d}{d t} \\theta_{2}{\\left(t \\right)}\\right)^{2} + b_{1} \\frac{d}{d t} \\theta_{1}{\\left(t \\right)} + \\tau_{1}\\right) + 0.5 L_{1} l_{2} m_{2} \\left(- \\hat{J}_{2} \\sin{\\left(2.0 \\theta_{2}{\\left(t \\right)} \\right)} \\left(\\frac{d}{d t} \\theta_{2}{\\left(t \\right)}\\right)^{2} + 2.0 b_{2} \\frac{d}{d t} \\theta_{2}{\\left(t \\right)} + 2.0 g l_{2} m_{2} \\sin{\\left(\\theta_{2}{\\left(t \\right)} \\right)} + 2.0 \\tau_{2}\\right) \\cos{\\left(\\theta_{2}{\\left(t \\right)} \\right)}}{\\hat{J}_{2} \\left(\\hat{J}_{0} + \\hat{J}_{2} \\sin^{2}{\\left(\\theta_{2}{\\left(t \\right)} \\right)}\\right) - L_{1}^{2} l_{2}^{2} m_{2}^{2} \\cos^{2}{\\left(\\theta_{2}{\\left(t \\right)} \\right)}}\\\\\\frac{L_{1} l_{2} m_{2} \\left(\\hat{J}_{2} \\sin{\\left(2.0 \\theta_{2}{\\left(t \\right)} \\right)} \\frac{d}{d t} \\theta_{1}{\\left(t \\right)} \\frac{d}{d t} \\theta_{2}{\\left(t \\right)} - L_{1} l_{2} m_{2} \\sin{\\left(\\theta_{2}{\\left(t \\right)} \\right)} \\left(\\frac{d}{d t} \\theta_{2}{\\left(t \\right)}\\right)^{2} + b_{1} \\frac{d}{d t} \\theta_{1}{\\left(t \\right)} + \\tau_{1}\\right) \\cos{\\left(\\theta_{2}{\\left(t \\right)} \\right)} - 0.5 \\left(\\hat{J}_{0} + \\hat{J}_{2} \\sin^{2}{\\left(\\theta_{2}{\\left(t \\right)} \\right)}\\right) \\left(- \\hat{J}_{2} \\sin{\\left(2.0 \\theta_{2}{\\left(t \\right)} \\right)} \\left(\\frac{d}{d t} \\theta_{2}{\\left(t \\right)}\\right)^{2} + 2.0 b_{2} \\frac{d}{d t} \\theta_{2}{\\left(t \\right)} + 2.0 g l_{2} m_{2} \\sin{\\left(\\theta_{2}{\\left(t \\right)} \\right)} + 2.0 \\tau_{2}\\right)}{\\hat{J}_{2} \\left(\\hat{J}_{0} + \\hat{J}_{2} \\sin^{2}{\\left(\\theta_{2}{\\left(t \\right)} \\right)}\\right) - L_{1}^{2} l_{2}^{2} m_{2}^{2} \\cos^{2}{\\left(\\theta_{2}{\\left(t \\right)} \\right)}}\\end{array}\\right]\\]"
      ],
      "text/plain": [
       "4×1 Array{Sym,2}:\n",
       "                                                                                                                                                                                                                                                                                                                                                                                                                                   Derivative(theta1(t), t)\n",
       "                                                                                                                                                                                                                                                                                                                                                                                                                                   Derivative(theta2(t), t)\n",
       "                            (-Jhat_2*(Jhat_2*sin(2.0*theta2(t))*Derivative(theta1(t), t)*Derivative(theta2(t), t) - L1*l2*m2*sin(theta2(t))*Derivative(theta2(t), t)^2 + b1*Derivative(theta1(t), t) + tau1) + 0.5*L1*l2*m2*(-Jhat_2*sin(2.0*theta2(t))*Derivative(theta2(t), t)^2 + 2.0*b2*Derivative(theta2(t), t) + 2.0*g*l2*m2*sin(theta2(t)) + 2.0*tau2)*cos(theta2(t)))/(Jhat_2*(Jhat_0 + Jhat_2*sin(theta2(t))^2) - L1^2*l2^2*m2^2*cos(theta2(t))^2)\n",
       " (L1*l2*m2*(Jhat_2*sin(2.0*theta2(t))*Derivative(theta1(t), t)*Derivative(theta2(t), t) - L1*l2*m2*sin(theta2(t))*Derivative(theta2(t), t)^2 + b1*Derivative(theta1(t), t) + tau1)*cos(theta2(t)) - 0.5*(Jhat_0 + Jhat_2*sin(theta2(t))^2)*(-Jhat_2*sin(2.0*theta2(t))*Derivative(theta2(t), t)^2 + 2.0*b2*Derivative(theta2(t), t) + 2.0*g*l2*m2*sin(theta2(t)) + 2.0*tau2))/(Jhat_2*(Jhat_0 + Jhat_2*sin(theta2(t))^2) - L1^2*l2^2*m2^2*cos(theta2(t))^2)"
      ]
     },
     "execution_count": 21,
     "metadata": {},
     "output_type": "execute_result"
    }
   ],
   "source": [
    "zdot = zdot.subs(sol)"
   ]
  },
  {
   "cell_type": "code",
   "execution_count": 22,
   "metadata": {},
   "outputs": [
    {
     "data": {
      "text/latex": [
       "\\[\\left[ \\begin{array}{r}z_{3}\\\\z_{4}\\\\\\frac{- \\hat{J}_{2} \\left(\\hat{J}_{2} z_{3} z_{4} \\sin{\\left(2.0 z_{2} \\right)} - L_{1} l_{2} m_{2} z_{4}^{2} \\sin{\\left(z_{2} \\right)} + b_{1} z_{3} + u_{1}\\right) + 0.5 L_{1} l_{2} m_{2} \\left(- \\hat{J}_{2} z_{4}^{2} \\sin{\\left(2.0 z_{2} \\right)} + 2.0 b_{2} z_{4} + 2.0 g l_{2} m_{2} \\sin{\\left(z_{2} \\right)} + 2.0 u_{2}\\right) \\cos{\\left(z_{2} \\right)}}{\\hat{J}_{2} \\left(\\hat{J}_{0} + \\hat{J}_{2} \\sin^{2}{\\left(z_{2} \\right)}\\right) - L_{1}^{2} l_{2}^{2} m_{2}^{2} \\cos^{2}{\\left(z_{2} \\right)}}\\\\\\frac{L_{1} l_{2} m_{2} \\left(\\hat{J}_{2} z_{3} z_{4} \\sin{\\left(2.0 z_{2} \\right)} - L_{1} l_{2} m_{2} z_{4}^{2} \\sin{\\left(z_{2} \\right)} + b_{1} z_{3} + u_{1}\\right) \\cos{\\left(z_{2} \\right)} - 0.5 \\left(\\hat{J}_{0} + \\hat{J}_{2} \\sin^{2}{\\left(z_{2} \\right)}\\right) \\left(- \\hat{J}_{2} z_{4}^{2} \\sin{\\left(2.0 z_{2} \\right)} + 2.0 b_{2} z_{4} + 2.0 g l_{2} m_{2} \\sin{\\left(z_{2} \\right)} + 2.0 u_{2}\\right)}{\\hat{J}_{2} \\left(\\hat{J}_{0} + \\hat{J}_{2} \\sin^{2}{\\left(z_{2} \\right)}\\right) - L_{1}^{2} l_{2}^{2} m_{2}^{2} \\cos^{2}{\\left(z_{2} \\right)}}\\end{array}\\right]\\]"
      ],
      "text/plain": [
       "4×1 Array{Sym,2}:\n",
       "                                                                                                                                                                                                                                                                        z_3\n",
       "                                                                                                                                                                                                                                                                        z_4\n",
       "                      (-Jhat_2*(Jhat_2*z_3*z_4*sin(2.0*z_2) - L1*l2*m2*z_4^2*sin(z_2) + b1*z_3 + u_1) + 0.5*L1*l2*m2*(-Jhat_2*z_4^2*sin(2.0*z_2) + 2.0*b2*z_4 + 2.0*g*l2*m2*sin(z_2) + 2.0*u_2)*cos(z_2))/(Jhat_2*(Jhat_0 + Jhat_2*sin(z_2)^2) - L1^2*l2^2*m2^2*cos(z_2)^2)\n",
       " (L1*l2*m2*(Jhat_2*z_3*z_4*sin(2.0*z_2) - L1*l2*m2*z_4^2*sin(z_2) + b1*z_3 + u_1)*cos(z_2) - 0.5*(Jhat_0 + Jhat_2*sin(z_2)^2)*(-Jhat_2*z_4^2*sin(2.0*z_2) + 2.0*b2*z_4 + 2.0*g*l2*m2*sin(z_2) + 2.0*u_2))/(Jhat_2*(Jhat_0 + Jhat_2*sin(z_2)^2) - L1^2*l2^2*m2^2*cos(z_2)^2)"
      ]
     },
     "execution_count": 22,
     "metadata": {},
     "output_type": "execute_result"
    }
   ],
   "source": [
    "zdot = zdot.subs(rule)"
   ]
  },
  {
   "cell_type": "markdown",
   "metadata": {},
   "source": [
    "# x = z - z_0\n",
    "# r = u - u_0\n",
    "\n",
    "# xdot = A*x + b*r"
   ]
  },
  {
   "cell_type": "code",
   "execution_count": 23,
   "metadata": {},
   "outputs": [],
   "source": [
    "A1 = [ (diff( zdot[1] , z_1)) (diff( zdot[1] , z_2)) (diff( zdot[1] , z_3)) (diff( zdot[1] , z_4));\n",
    "    (diff( zdot[2] , z_1)) (diff( zdot[2] , z_2)) (diff( zdot[2] , z_3)) (diff( zdot[2] , z_4));\n",
    "    (diff( zdot[3] , z_1)) (diff( zdot[3] , z_2)) (diff( zdot[3] , z_3)) (diff( zdot[3] , z_4));\n",
    "(diff( zdot[4] , z_1)) (diff( zdot[4] , z_2)) (diff( zdot[4] , z_3)) (diff( zdot[4] , z_4)) ]\n",
    ";"
   ]
  },
  {
   "cell_type": "code",
   "execution_count": 24,
   "metadata": {},
   "outputs": [
    {
     "data": {
      "text/latex": [
       "\\[\\left[ \\begin{array}{rrrr}0&0&1&0\\\\0&0&0&1\\\\0&\\frac{1.0 L_{1} g l_{2}^{2} m_{2}^{2}}{\\hat{J}_{0} \\hat{J}_{2} - L_{1}^{2} l_{2}^{2} m_{2}^{2}}&\\frac{\\hat{J}_{2} b_{1}}{- \\hat{J}_{0} \\hat{J}_{2} + L_{1}^{2} l_{2}^{2} m_{2}^{2}}&\\frac{1.0 L_{1} b_{2} l_{2} m_{2}}{- \\hat{J}_{0} \\hat{J}_{2} + L_{1}^{2} l_{2}^{2} m_{2}^{2}}\\\\0&\\frac{1.0 \\hat{J}_{0} g l_{2} m_{2}}{\\hat{J}_{0} \\hat{J}_{2} - L_{1}^{2} l_{2}^{2} m_{2}^{2}}&\\frac{L_{1} b_{1} l_{2} m_{2}}{- \\hat{J}_{0} \\hat{J}_{2} + L_{1}^{2} l_{2}^{2} m_{2}^{2}}&\\frac{1.0 \\hat{J}_{0} b_{2}}{- \\hat{J}_{0} \\hat{J}_{2} + L_{1}^{2} l_{2}^{2} m_{2}^{2}}\\end{array}\\right]\\]"
      ],
      "text/plain": [
       "4×4 Array{Sym,2}:\n",
       " 0  …                                                  0\n",
       " 0                                                     1\n",
       " 0     1.0*L1*b2*l2*m2/(-Jhat_0*Jhat_2 + L1^2*l2^2*m2^2)\n",
       " 0       1.0*Jhat_0*b2/(-Jhat_0*Jhat_2 + L1^2*l2^2*m2^2)"
      ]
     },
     "execution_count": 24,
     "metadata": {},
     "output_type": "execute_result"
    }
   ],
   "source": [
    "A = [df|> subs(z_2=>pi,z_3=>0,z_4=>0)|> simplify for df in A1]"
   ]
  },
  {
   "cell_type": "code",
   "execution_count": 25,
   "metadata": {},
   "outputs": [
    {
     "data": {
      "text/latex": [
       "\\[\\left[ \\begin{array}{rr}0&0\\\\0&0\\\\- \\frac{\\hat{J}_{2}}{\\hat{J}_{2} \\left(\\hat{J}_{0} + \\hat{J}_{2} \\sin^{2}{\\left(z_{2} \\right)}\\right) - L_{1}^{2} l_{2}^{2} m_{2}^{2} \\cos^{2}{\\left(z_{2} \\right)}}&\\frac{1.0 L_{1} l_{2} m_{2} \\cos{\\left(z_{2} \\right)}}{\\hat{J}_{2} \\left(\\hat{J}_{0} + \\hat{J}_{2} \\sin^{2}{\\left(z_{2} \\right)}\\right) - L_{1}^{2} l_{2}^{2} m_{2}^{2} \\cos^{2}{\\left(z_{2} \\right)}}\\\\\\frac{L_{1} l_{2} m_{2} \\cos{\\left(z_{2} \\right)}}{\\hat{J}_{2} \\left(\\hat{J}_{0} + \\hat{J}_{2} \\sin^{2}{\\left(z_{2} \\right)}\\right) - L_{1}^{2} l_{2}^{2} m_{2}^{2} \\cos^{2}{\\left(z_{2} \\right)}}&\\frac{- 1.0 \\hat{J}_{0} - 1.0 \\hat{J}_{2} \\sin^{2}{\\left(z_{2} \\right)}}{\\hat{J}_{2} \\left(\\hat{J}_{0} + \\hat{J}_{2} \\sin^{2}{\\left(z_{2} \\right)}\\right) - L_{1}^{2} l_{2}^{2} m_{2}^{2} \\cos^{2}{\\left(z_{2} \\right)}}\\end{array}\\right]\\]"
      ],
      "text/plain": [
       "4×2 Array{Sym,2}:\n",
       "                                                                                   0  …                                                                                                        0\n",
       "                                                                                   0                                                                                                           0\n",
       "           -Jhat_2/(Jhat_2*(Jhat_0 + Jhat_2*sin(z_2)^2) - L1^2*l2^2*m2^2*cos(z_2)^2)                     1.0*L1*l2*m2*cos(z_2)/(Jhat_2*(Jhat_0 + Jhat_2*sin(z_2)^2) - L1^2*l2^2*m2^2*cos(z_2)^2)\n",
       " L1*l2*m2*cos(z_2)/(Jhat_2*(Jhat_0 + Jhat_2*sin(z_2)^2) - L1^2*l2^2*m2^2*cos(z_2)^2)     (-1.0*Jhat_0 - 1.0*Jhat_2*sin(z_2)^2)/(Jhat_2*(Jhat_0 + Jhat_2*sin(z_2)^2) - L1^2*l2^2*m2^2*cos(z_2)^2)"
      ]
     },
     "execution_count": 25,
     "metadata": {},
     "output_type": "execute_result"
    }
   ],
   "source": [
    "B1 = [ (diff(zdot[1],u_1)) (diff(zdot[1],u_2));\n",
    "(diff(zdot[2],u_1)) (diff(zdot[2],u_2));\n",
    "(diff(zdot[3],u_1)) (diff(zdot[3],u_2));\n",
    "(diff(zdot[4],u_1)) (diff(zdot[4],u_2))]"
   ]
  },
  {
   "cell_type": "code",
   "execution_count": 26,
   "metadata": {},
   "outputs": [
    {
     "data": {
      "text/latex": [
       "\\[\\left[ \\begin{array}{rr}0&0\\\\0&0\\\\\\frac{\\hat{J}_{2}}{- \\hat{J}_{0} \\hat{J}_{2} + L_{1}^{2} l_{2}^{2} m_{2}^{2}}&\\frac{1.0 L_{1} l_{2} m_{2}}{\\hat{J}_{0} \\hat{J}_{2} - L_{1}^{2} l_{2}^{2} m_{2}^{2}}\\\\\\frac{L_{1} l_{2} m_{2}}{\\hat{J}_{0} \\hat{J}_{2} - L_{1}^{2} l_{2}^{2} m_{2}^{2}}&\\frac{1.0 \\hat{J}_{0}}{- \\hat{J}_{0} \\hat{J}_{2} + L_{1}^{2} l_{2}^{2} m_{2}^{2}}\\end{array}\\right]\\]"
      ],
      "text/plain": [
       "4×2 Array{Sym,2}:\n",
       "                                         0  …                                              0\n",
       "                                         0                                                 0\n",
       "  Jhat_2/(-Jhat_0*Jhat_2 + L1^2*l2^2*m2^2)     1.0*L1*l2*m2/(Jhat_0*Jhat_2 - L1^2*l2^2*m2^2)\n",
       " L1*l2*m2/(Jhat_0*Jhat_2 - L1^2*l2^2*m2^2)      1.0*Jhat_0/(-Jhat_0*Jhat_2 + L1^2*l2^2*m2^2)"
      ]
     },
     "execution_count": 26,
     "metadata": {},
     "output_type": "execute_result"
    }
   ],
   "source": [
    "B = [DF|> subs(z_2=>0,z_3=>0,z_4=>0)|> simplify for DF in B1]"
   ]
  },
  {
   "cell_type": "code",
   "execution_count": 27,
   "metadata": {},
   "outputs": [
    {
     "data": {
      "text/plain": [
       "\"[z_3, z_4, (-Jhat_2.*(Jhat_2.*z_3.*z_4.*sin(2.0*z_2) - L1.*l2.*m2.*z_4.^2.*sin(z_2) + b1.*z_3 + u_1) + 0.5*L1.*l2.*m2.*(-Jhat_2.*z_4.^2.*sin(2.0*z_2) + 2.0*b2.*z_4 + 2.0*g.*l2.*m2.*sin(z_2) + 2.0*u_2).*cos(z_2))./(Jhat_2.*(Jhat_0 + Jhat_2.*sin(z_2).^2) - L1.^2.*l2.^2.*m2.^2.*cos(z_2).^2), (L1.*l2.*m2.*(Jhat_2.*z_3.*z_4.*sin(2.0*z_2) - L1.*l2.*m2.*z_4.^2.*sin(z_2) + b1.*z_3 + u_1).*cos(z_2) - 0.5*(Jhat_0 + Jhat_2.*sin(z_2).^2).*(-Jhat_2.*z_4.^2.*sin(2.0*z_2) + 2.0*b2.*z_4 + 2.0*g.*l2.*m2.*sin(z_2) + 2.0*u_2))./(Jhat_2.*(Jhat_0 + Jhat_2.*sin(z_2).^2) - L1.^2.*l2.^2.*m2.^2.*cos(z_2).^2)]\""
      ]
     },
     "execution_count": 27,
     "metadata": {},
     "output_type": "execute_result"
    }
   ],
   "source": [
    "sympy.julia_code(zdot)"
   ]
  },
  {
   "cell_type": "code",
   "execution_count": null,
   "metadata": {},
   "outputs": [],
   "source": []
  },
  {
   "cell_type": "code",
   "execution_count": 33,
   "metadata": {},
   "outputs": [
    {
     "name": "stdout",
     "output_type": "stream",
     "text": [
      "\\left[\\begin{matrix}0 & 0\\\\0 & 0\\\\\\frac{\\hat{J}_{2}}{- \\hat{J}_{0} \\hat{J}_{2} + L_{1}^{2} l_{2}^{2} m_{2}^{2}} & \\frac{1.0 L_{1} l_{2} m_{2}}{\\hat{J}_{0} \\hat{J}_{2} - L_{1}^{2} l_{2}^{2} m_{2}^{2}}\\\\\\frac{L_{1} l_{2} m_{2}}{\\hat{J}_{0} \\hat{J}_{2} - L_{1}^{2} l_{2}^{2} m_{2}^{2}} & \\frac{1.0 \\hat{J}_{0}}{- \\hat{J}_{0} \\hat{J}_{2} + L_{1}^{2} l_{2}^{2} m_{2}^{2}}\\end{matrix}\\right]\n"
     ]
    }
   ],
   "source": [
    "sympy.latex(B) |> println"
   ]
  },
  {
   "cell_type": "code",
   "execution_count": 34,
   "metadata": {},
   "outputs": [
    {
     "data": {
      "text/latex": [
       "\\[\\left[ \\begin{array}{rr}0&0\\\\0&0\\\\\\frac{\\hat{J}_{2}}{- \\hat{J}_{0} \\hat{J}_{2} + L_{1}^{2} l_{2}^{2} m_{2}^{2}}&\\frac{1.0 L_{1} l_{2} m_{2}}{\\hat{J}_{0} \\hat{J}_{2} - L_{1}^{2} l_{2}^{2} m_{2}^{2}}\\\\\\frac{L_{1} l_{2} m_{2}}{\\hat{J}_{0} \\hat{J}_{2} - L_{1}^{2} l_{2}^{2} m_{2}^{2}}&\\frac{1.0 \\hat{J}_{0}}{- \\hat{J}_{0} \\hat{J}_{2} + L_{1}^{2} l_{2}^{2} m_{2}^{2}}\\end{array}\\right]\\]"
      ],
      "text/plain": [
       "4×2 Array{Sym,2}:\n",
       "                                         0  …                                              0\n",
       "                                         0                                                 0\n",
       "  Jhat_2/(-Jhat_0*Jhat_2 + L1^2*l2^2*m2^2)     1.0*L1*l2*m2/(Jhat_0*Jhat_2 - L1^2*l2^2*m2^2)\n",
       " L1*l2*m2/(Jhat_0*Jhat_2 - L1^2*l2^2*m2^2)      1.0*Jhat_0/(-Jhat_0*Jhat_2 + L1^2*l2^2*m2^2)"
      ]
     },
     "execution_count": 34,
     "metadata": {},
     "output_type": "execute_result"
    }
   ],
   "source": [
    "B"
   ]
  },
  {
   "cell_type": "code",
   "execution_count": null,
   "metadata": {},
   "outputs": [],
   "source": []
  }
 ],
 "metadata": {
  "kernelspec": {
   "display_name": "Julia 1.3.0",
   "language": "julia",
   "name": "julia-1.3"
  },
  "language_info": {
   "file_extension": ".jl",
   "mimetype": "application/julia",
   "name": "julia",
   "version": "1.3.0"
  }
 },
 "nbformat": 4,
 "nbformat_minor": 2
}
